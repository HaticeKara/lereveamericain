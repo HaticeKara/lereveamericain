{
 "cells": [
  {
   "cell_type": "code",
   "execution_count": 451,
   "outputs": [],
   "source": [
    "#directory change to not to write the entire directory of the data files\n",
    "import os\n",
    "import pandas as pd"
   ],
   "metadata": {
    "collapsed": false,
    "pycharm": {
     "name": "#%%\n"
    }
   }
  },
  {
   "cell_type": "code",
   "execution_count": 452,
   "outputs": [
    {
     "data": {
      "text/plain": "   Survey Year               Timestamp  SalaryUSD        Country PostalCode  \\\n0         2020 2020-01-04 18:50:34.328   115000.0  United States         03   \n1         2020 2020-01-04 10:43:01.821   100000.0  United States        NaN   \n2         2020 2020-01-04 09:51:45.885   100000.0          Spain      28046   \n3         2020 2020-01-04 01:08:53.605    70000.0  United States      94133   \n4         2020 2020-01-03 15:28:54.163   110000.0  United States      95354   \n\n        PrimaryDatabase  YearsWithThisDatabase  \\\n0  Microsoft SQL Server                     15   \n1                 Other                      6   \n2  Microsoft SQL Server                      2   \n3  Microsoft SQL Server                      3   \n4                Oracle                     30   \n\n                                      OtherDatabases    EmploymentStatus  \\\n0  Microsoft SQL Server, MongoDB, Azure SQL DB (a...  Full time employee   \n1                                      MySQL/MariaDB  Full time employee   \n2                                      MySQL/MariaDB  Full time employee   \n3                                   Microsoft Access  Full time employee   \n4  Microsoft SQL Server, Oracle, MySQL/MariaDB, P...  Full time employee   \n\n                                            JobTitle  ...  \\\n0  DBA (Production Focus - build & troubleshoot s...  ...   \n1                  Developer: App code (C#, JS, etc)  ...   \n2                                              Other  ...   \n3                                            Analyst  ...   \n4  DBA (General - splits time evenly between writ...  ...   \n\n  NewestVersionInProduction  OldestVersionInProduction  \\\n0           SQL Server 2019            SQL Server 2016   \n1                  informix                   informix   \n2           SQL Server 2017            SQL Server 2017   \n3           SQL Server 2016            SQL Server 2012   \n4           SQL Server 2016          SQL Server 2008R2   \n\n  PopulationOfLargestCityWithin20Miles  EmploymentSector LookingForAnotherJob  \\\n0                 20K-99K (large town)  Private business            Not Asked   \n1                     1M+ (metropolis)  Private business            Not Asked   \n2                     1M+ (metropolis)  Private business            Not Asked   \n3                     1M+ (metropolis)  Private business            Not Asked   \n4                     100K-299K (city)        Non-profit            Not Asked   \n\n                      CareerPlansThisYear Gender OtherJobDuties  \\\n0  Stay with the same employer, same role   Male      Not Asked   \n1                       Prefer not to say   Male      Not Asked   \n2  Stay with the same employer, same role   Male      Not Asked   \n3         Change both employers and roles   Male      Not Asked   \n4  Stay with the same employer, same role   Male      Not Asked   \n\n  KindsOfTasksPerformed Counter  \n0             Not Asked       1  \n1             Not Asked       1  \n2             Not Asked       1  \n3             Not Asked       1  \n4             Not Asked       1  \n\n[5 rows x 31 columns]",
      "text/html": "<div>\n<style scoped>\n    .dataframe tbody tr th:only-of-type {\n        vertical-align: middle;\n    }\n\n    .dataframe tbody tr th {\n        vertical-align: top;\n    }\n\n    .dataframe thead th {\n        text-align: right;\n    }\n</style>\n<table border=\"1\" class=\"dataframe\">\n  <thead>\n    <tr style=\"text-align: right;\">\n      <th></th>\n      <th>Survey Year</th>\n      <th>Timestamp</th>\n      <th>SalaryUSD</th>\n      <th>Country</th>\n      <th>PostalCode</th>\n      <th>PrimaryDatabase</th>\n      <th>YearsWithThisDatabase</th>\n      <th>OtherDatabases</th>\n      <th>EmploymentStatus</th>\n      <th>JobTitle</th>\n      <th>...</th>\n      <th>NewestVersionInProduction</th>\n      <th>OldestVersionInProduction</th>\n      <th>PopulationOfLargestCityWithin20Miles</th>\n      <th>EmploymentSector</th>\n      <th>LookingForAnotherJob</th>\n      <th>CareerPlansThisYear</th>\n      <th>Gender</th>\n      <th>OtherJobDuties</th>\n      <th>KindsOfTasksPerformed</th>\n      <th>Counter</th>\n    </tr>\n  </thead>\n  <tbody>\n    <tr>\n      <th>0</th>\n      <td>2020</td>\n      <td>2020-01-04 18:50:34.328</td>\n      <td>115000.0</td>\n      <td>United States</td>\n      <td>03</td>\n      <td>Microsoft SQL Server</td>\n      <td>15</td>\n      <td>Microsoft SQL Server, MongoDB, Azure SQL DB (a...</td>\n      <td>Full time employee</td>\n      <td>DBA (Production Focus - build &amp; troubleshoot s...</td>\n      <td>...</td>\n      <td>SQL Server 2019</td>\n      <td>SQL Server 2016</td>\n      <td>20K-99K (large town)</td>\n      <td>Private business</td>\n      <td>Not Asked</td>\n      <td>Stay with the same employer, same role</td>\n      <td>Male</td>\n      <td>Not Asked</td>\n      <td>Not Asked</td>\n      <td>1</td>\n    </tr>\n    <tr>\n      <th>1</th>\n      <td>2020</td>\n      <td>2020-01-04 10:43:01.821</td>\n      <td>100000.0</td>\n      <td>United States</td>\n      <td>NaN</td>\n      <td>Other</td>\n      <td>6</td>\n      <td>MySQL/MariaDB</td>\n      <td>Full time employee</td>\n      <td>Developer: App code (C#, JS, etc)</td>\n      <td>...</td>\n      <td>informix</td>\n      <td>informix</td>\n      <td>1M+ (metropolis)</td>\n      <td>Private business</td>\n      <td>Not Asked</td>\n      <td>Prefer not to say</td>\n      <td>Male</td>\n      <td>Not Asked</td>\n      <td>Not Asked</td>\n      <td>1</td>\n    </tr>\n    <tr>\n      <th>2</th>\n      <td>2020</td>\n      <td>2020-01-04 09:51:45.885</td>\n      <td>100000.0</td>\n      <td>Spain</td>\n      <td>28046</td>\n      <td>Microsoft SQL Server</td>\n      <td>2</td>\n      <td>MySQL/MariaDB</td>\n      <td>Full time employee</td>\n      <td>Other</td>\n      <td>...</td>\n      <td>SQL Server 2017</td>\n      <td>SQL Server 2017</td>\n      <td>1M+ (metropolis)</td>\n      <td>Private business</td>\n      <td>Not Asked</td>\n      <td>Stay with the same employer, same role</td>\n      <td>Male</td>\n      <td>Not Asked</td>\n      <td>Not Asked</td>\n      <td>1</td>\n    </tr>\n    <tr>\n      <th>3</th>\n      <td>2020</td>\n      <td>2020-01-04 01:08:53.605</td>\n      <td>70000.0</td>\n      <td>United States</td>\n      <td>94133</td>\n      <td>Microsoft SQL Server</td>\n      <td>3</td>\n      <td>Microsoft Access</td>\n      <td>Full time employee</td>\n      <td>Analyst</td>\n      <td>...</td>\n      <td>SQL Server 2016</td>\n      <td>SQL Server 2012</td>\n      <td>1M+ (metropolis)</td>\n      <td>Private business</td>\n      <td>Not Asked</td>\n      <td>Change both employers and roles</td>\n      <td>Male</td>\n      <td>Not Asked</td>\n      <td>Not Asked</td>\n      <td>1</td>\n    </tr>\n    <tr>\n      <th>4</th>\n      <td>2020</td>\n      <td>2020-01-03 15:28:54.163</td>\n      <td>110000.0</td>\n      <td>United States</td>\n      <td>95354</td>\n      <td>Oracle</td>\n      <td>30</td>\n      <td>Microsoft SQL Server, Oracle, MySQL/MariaDB, P...</td>\n      <td>Full time employee</td>\n      <td>DBA (General - splits time evenly between writ...</td>\n      <td>...</td>\n      <td>SQL Server 2016</td>\n      <td>SQL Server 2008R2</td>\n      <td>100K-299K (city)</td>\n      <td>Non-profit</td>\n      <td>Not Asked</td>\n      <td>Stay with the same employer, same role</td>\n      <td>Male</td>\n      <td>Not Asked</td>\n      <td>Not Asked</td>\n      <td>1</td>\n    </tr>\n  </tbody>\n</table>\n<p>5 rows × 31 columns</p>\n</div>"
     },
     "execution_count": 452,
     "metadata": {},
     "output_type": "execute_result"
    }
   ],
   "source": [
    "#second dataset from :\n",
    "# https://www.brentozar.com/archive/2020/01/the-2020-data-professional-salary-survey-results-are-in/\n",
    "# which is saved in 01_raw repertory\n",
    "data_salary=pd.read_excel('/home/apprenant/PycharmProjects/pythonProject/lereveamericain/Data/01_raw/2020_Data_Professional_Salary_Survey_Responses.xlsx',skiprows=3)\n",
    "data_salary.head(5)"
   ],
   "metadata": {
    "collapsed": false,
    "pycharm": {
     "name": "#%%\n"
    }
   }
  },
  {
   "cell_type": "code",
   "execution_count": 453,
   "outputs": [],
   "source": [
    "os.chdir (\"/home/apprenant/PycharmProjects/pythonProject/lereveamericain/Data/02_intermediate\")"
   ],
   "metadata": {
    "collapsed": false,
    "pycharm": {
     "name": "#%% next datasets will be loaded in this directory:\n"
    }
   }
  },
  {
   "cell_type": "code",
   "execution_count": 454,
   "outputs": [
    {
     "data": {
      "text/plain": "Index(['Survey Year', 'Timestamp', 'SalaryUSD', 'Country', 'PostalCode',\n       'PrimaryDatabase', 'YearsWithThisDatabase', 'OtherDatabases',\n       'EmploymentStatus', 'JobTitle', 'ManageStaff', 'YearsWithThisTypeOfJob',\n       'HowManyCompanies', 'OtherPeopleOnYourTeam', 'CompanyEmployeesOverall',\n       'DatabaseServers', 'Education', 'EducationIsComputerRelated',\n       'Certifications', 'HoursWorkedPerWeek', 'TelecommuteDaysPerWeek',\n       'NewestVersionInProduction', 'OldestVersionInProduction',\n       'PopulationOfLargestCityWithin20Miles', 'EmploymentSector',\n       'LookingForAnotherJob', 'CareerPlansThisYear', 'Gender',\n       'OtherJobDuties', 'KindsOfTasksPerformed', 'Counter'],\n      dtype='object')"
     },
     "execution_count": 454,
     "metadata": {},
     "output_type": "execute_result"
    }
   ],
   "source": [
    "data_salary.columns"
   ],
   "metadata": {
    "collapsed": false,
    "pycharm": {
     "name": "#%%\n"
    }
   }
  },
  {
   "cell_type": "code",
   "execution_count": 455,
   "outputs": [
    {
     "data": {
      "text/plain": "   Survey Year               Timestamp  SalaryUSD        Country PostalCode  \\\n0         2020 2020-01-04 18:50:34.328   115000.0  United States         03   \n1         2020 2020-01-04 10:43:01.821   100000.0  United States        NaN   \n2         2020 2020-01-04 09:51:45.885   100000.0          Spain      28046   \n3         2020 2020-01-04 01:08:53.605    70000.0  United States      94133   \n4         2020 2020-01-03 15:28:54.163   110000.0  United States      95354   \n\n        PrimaryDatabase  YearsWithThisDatabase  \\\n0  Microsoft SQL Server                     15   \n1                 Other                      6   \n2  Microsoft SQL Server                      2   \n3  Microsoft SQL Server                      3   \n4                Oracle                     30   \n\n                                            JobTitle ManageStaff  \\\n0  DBA (Production Focus - build & troubleshoot s...          No   \n1                  Developer: App code (C#, JS, etc)          No   \n2                                              Other         Yes   \n3                                            Analyst          No   \n4  DBA (General - splits time evenly between writ...          No   \n\n   YearsWithThisTypeOfJob                                   HowManyCompanies  \\\n0                       5  1 (this is the only company where I've had thi...   \n1                       6  1 (this is the only company where I've had thi...   \n2                       3  1 (this is the only company where I've had thi...   \n3                       3  1 (this is the only company where I've had thi...   \n4                      25                                                  3   \n\n  OtherPeopleOnYourTeam  DatabaseServers  Education Gender  \n0                     2              500  Not Asked   Male  \n1           More than 5                1  Not Asked   Male  \n2                     1                1  Not Asked   Male  \n3                     2                3  Not Asked   Male  \n4                  None               45  Not Asked   Male  ",
      "text/html": "<div>\n<style scoped>\n    .dataframe tbody tr th:only-of-type {\n        vertical-align: middle;\n    }\n\n    .dataframe tbody tr th {\n        vertical-align: top;\n    }\n\n    .dataframe thead th {\n        text-align: right;\n    }\n</style>\n<table border=\"1\" class=\"dataframe\">\n  <thead>\n    <tr style=\"text-align: right;\">\n      <th></th>\n      <th>Survey Year</th>\n      <th>Timestamp</th>\n      <th>SalaryUSD</th>\n      <th>Country</th>\n      <th>PostalCode</th>\n      <th>PrimaryDatabase</th>\n      <th>YearsWithThisDatabase</th>\n      <th>JobTitle</th>\n      <th>ManageStaff</th>\n      <th>YearsWithThisTypeOfJob</th>\n      <th>HowManyCompanies</th>\n      <th>OtherPeopleOnYourTeam</th>\n      <th>DatabaseServers</th>\n      <th>Education</th>\n      <th>Gender</th>\n    </tr>\n  </thead>\n  <tbody>\n    <tr>\n      <th>0</th>\n      <td>2020</td>\n      <td>2020-01-04 18:50:34.328</td>\n      <td>115000.0</td>\n      <td>United States</td>\n      <td>03</td>\n      <td>Microsoft SQL Server</td>\n      <td>15</td>\n      <td>DBA (Production Focus - build &amp; troubleshoot s...</td>\n      <td>No</td>\n      <td>5</td>\n      <td>1 (this is the only company where I've had thi...</td>\n      <td>2</td>\n      <td>500</td>\n      <td>Not Asked</td>\n      <td>Male</td>\n    </tr>\n    <tr>\n      <th>1</th>\n      <td>2020</td>\n      <td>2020-01-04 10:43:01.821</td>\n      <td>100000.0</td>\n      <td>United States</td>\n      <td>NaN</td>\n      <td>Other</td>\n      <td>6</td>\n      <td>Developer: App code (C#, JS, etc)</td>\n      <td>No</td>\n      <td>6</td>\n      <td>1 (this is the only company where I've had thi...</td>\n      <td>More than 5</td>\n      <td>1</td>\n      <td>Not Asked</td>\n      <td>Male</td>\n    </tr>\n    <tr>\n      <th>2</th>\n      <td>2020</td>\n      <td>2020-01-04 09:51:45.885</td>\n      <td>100000.0</td>\n      <td>Spain</td>\n      <td>28046</td>\n      <td>Microsoft SQL Server</td>\n      <td>2</td>\n      <td>Other</td>\n      <td>Yes</td>\n      <td>3</td>\n      <td>1 (this is the only company where I've had thi...</td>\n      <td>1</td>\n      <td>1</td>\n      <td>Not Asked</td>\n      <td>Male</td>\n    </tr>\n    <tr>\n      <th>3</th>\n      <td>2020</td>\n      <td>2020-01-04 01:08:53.605</td>\n      <td>70000.0</td>\n      <td>United States</td>\n      <td>94133</td>\n      <td>Microsoft SQL Server</td>\n      <td>3</td>\n      <td>Analyst</td>\n      <td>No</td>\n      <td>3</td>\n      <td>1 (this is the only company where I've had thi...</td>\n      <td>2</td>\n      <td>3</td>\n      <td>Not Asked</td>\n      <td>Male</td>\n    </tr>\n    <tr>\n      <th>4</th>\n      <td>2020</td>\n      <td>2020-01-03 15:28:54.163</td>\n      <td>110000.0</td>\n      <td>United States</td>\n      <td>95354</td>\n      <td>Oracle</td>\n      <td>30</td>\n      <td>DBA (General - splits time evenly between writ...</td>\n      <td>No</td>\n      <td>25</td>\n      <td>3</td>\n      <td>None</td>\n      <td>45</td>\n      <td>Not Asked</td>\n      <td>Male</td>\n    </tr>\n  </tbody>\n</table>\n</div>"
     },
     "execution_count": 455,
     "metadata": {},
     "output_type": "execute_result"
    }
   ],
   "source": [
    "# (we should delete timestamp column, but i decide to keep it).\n",
    "data_intermediate = data_salary.drop([\n",
    "'CompanyEmployeesOverall',\n",
    "'LookingForAnotherJob',\n",
    "'OtherJobDuties',\n",
    "'KindsOfTasksPerformed',\n",
    "'OtherDatabases',\n",
    "'Counter',\n",
    "'TelecommuteDaysPerWeek',\n",
    "'NewestVersionInProduction',\n",
    "'OldestVersionInProduction',\n",
    "'CareerPlansThisYear',\n",
    "'EmploymentSector',\n",
    "'PopulationOfLargestCityWithin20Miles',\n",
    "'Certifications',\n",
    "'HoursWorkedPerWeek',\n",
    "'EducationIsComputerRelated',\n",
    "'EmploymentStatus',\n",
    "],axis = 1)\n",
    "\n",
    "data_intermediate.head()"
   ],
   "metadata": {
    "collapsed": false,
    "pycharm": {
     "name": "#%% dataset without some columns ( I kept the \"Survey Year\" to eventually see the evolution of salary) :\n"
    }
   }
  },
  {
   "cell_type": "code",
   "execution_count": 456,
   "outputs": [],
   "source": [
    "#only united states rows due to request KPI that concern USA:\n",
    "data_intermediate_usa = data_intermediate.loc[data_intermediate['Country'] == 'United States']\n",
    "\n",
    "data_intermediate_usa.to_csv(r'data_intermediate_usa.csv')"
   ],
   "metadata": {
    "collapsed": false,
    "pycharm": {
     "name": "#%%\n"
    }
   }
  },
  {
   "cell_type": "code",
   "execution_count": 457,
   "outputs": [
    {
     "data": {
      "text/plain": "Index(['Survey Year', 'Timestamp', 'SalaryUSD', 'Country', 'PostalCode',\n       'PrimaryDatabase', 'YearsWithThisDatabase', 'JobTitle', 'ManageStaff',\n       'YearsWithThisTypeOfJob', 'HowManyCompanies', 'OtherPeopleOnYourTeam',\n       'DatabaseServers', 'Education', 'Gender'],\n      dtype='object')"
     },
     "execution_count": 457,
     "metadata": {},
     "output_type": "execute_result"
    }
   ],
   "source": [
    "data_intermediate.columns"
   ],
   "metadata": {
    "collapsed": false,
    "pycharm": {
     "name": "#%%\n"
    }
   }
  },
  {
   "cell_type": "code",
   "execution_count": 458,
   "outputs": [
    {
     "data": {
      "text/plain": "Survey Year                 0\nTimestamp                   0\nSalaryUSD                   0\nCountry                     0\nPostalCode                466\nPrimaryDatabase             0\nYearsWithThisDatabase       0\nJobTitle                    0\nManageStaff                 0\nYearsWithThisTypeOfJob      0\nHowManyCompanies            0\nOtherPeopleOnYourTeam       0\nDatabaseServers             0\nEducation                   0\nGender                      0\ndtype: int64"
     },
     "execution_count": 458,
     "metadata": {},
     "output_type": "execute_result"
    }
   ],
   "source": [
    "# to view which columns are empty :\n",
    "data_intermediate_usa.isnull().sum()"
   ],
   "metadata": {
    "collapsed": false,
    "pycharm": {
     "name": "#%%\n"
    }
   }
  },
  {
   "cell_type": "code",
   "execution_count": 459,
   "outputs": [
    {
     "data": {
      "text/plain": "(5680, 15)"
     },
     "execution_count": 459,
     "metadata": {},
     "output_type": "execute_result"
    }
   ],
   "source": [
    "# to see how many rows are in the data set\n",
    "data_intermediate_usa.shape"
   ],
   "metadata": {
    "collapsed": false,
    "pycharm": {
     "name": "#%%\n"
    }
   }
  },
  {
   "cell_type": "code",
   "execution_count": 460,
   "outputs": [
    {
     "data": {
      "text/plain": "Survey Year               0\nTimestamp                 0\nSalaryUSD                 0\nCountry                   0\nPostalCode                0\nPrimaryDatabase           0\nYearsWithThisDatabase     0\nJobTitle                  0\nManageStaff               0\nYearsWithThisTypeOfJob    0\nHowManyCompanies          0\nOtherPeopleOnYourTeam     0\nDatabaseServers           0\nEducation                 0\nGender                    0\ndtype: int64"
     },
     "execution_count": 460,
     "metadata": {},
     "output_type": "execute_result"
    }
   ],
   "source": [
    "#drop rows without postal code because rows without postal code represent only 8% of the data\n",
    "data_intermediate_usa_nopc= data_intermediate_usa.dropna(subset=['PostalCode'])\n",
    "data_intermediate_usa_nopc.to_csv(r'data_intermediate_usa_nopc.csv')\n",
    "data_intermediate_usa_nopc.isnull().sum()"
   ],
   "metadata": {
    "collapsed": false,
    "pycharm": {
     "name": "#%%\n"
    }
   }
  },
  {
   "cell_type": "code",
   "execution_count": 461,
   "outputs": [],
   "source": [
    "data_processed = data_intermediate_usa_nopc.copy()"
   ],
   "metadata": {
    "collapsed": false,
    "pycharm": {
     "name": "#%%\n"
    }
   }
  },
  {
   "cell_type": "code",
   "execution_count": 462,
   "outputs": [],
   "source": [
    "#next datasets will be loaded in this directory:\n",
    "os.chdir (\"/home/apprenant/PycharmProjects/pythonProject/lereveamericain/Data/03_processed\")"
   ],
   "metadata": {
    "collapsed": false,
    "pycharm": {
     "name": "#%%\n"
    }
   }
  },
  {
   "cell_type": "code",
   "execution_count": 463,
   "outputs": [
    {
     "data": {
      "text/plain": "      Survey Year               Timestamp  SalaryUSD        Country  \\\n7329         2017 2017-01-06 07:01:00.127   103000.0  United States   \n2675         2018 2018-01-03 14:46:27.029    75000.0  United States   \n1966         2019 2018-12-22 09:40:54.605    97335.0  United States   \n4972         2018 2017-12-13 11:46:47.306    81723.0  United States   \n8359         2017 2017-01-05 11:13:25.675   133900.0  United States   \n4586         2018 2017-12-18 12:41:59.311   147000.0  United States   \n3100         2018 2017-12-26 12:21:08.458    77855.0  United States   \n410          2020 2019-12-17 10:35:06.621    70000.0  United States   \n6143         2017 2017-01-09 21:12:24.696   119000.0  United States   \n4324         2018 2017-12-19 09:28:58.345   143000.0  United States   \n\n     PostalCode       PrimaryDatabase  YearsWithThisDatabase  \\\n7329  Not Asked  Microsoft SQL Server                      6   \n2675      98102                Oracle                      6   \n1966      14610  Microsoft SQL Server                      9   \n4972      66101  Microsoft SQL Server                     20   \n8359  Not Asked  Microsoft SQL Server                     21   \n4586      76039  Microsoft SQL Server                     18   \n3100      87102  Microsoft SQL Server                      5   \n410       38118                 Other                      1   \n6143  Not Asked  Microsoft SQL Server                      8   \n4324      78735  Microsoft SQL Server                     15   \n\n                                               JobTitle ManageStaff  \\\n7329  Developer: Business Intelligence (SSRS, PowerB...          No   \n2675                                            Analyst          No   \n1966  DBA (Production Focus - build & troubleshoot s...          No   \n4972                                          Architect          No   \n8359                                                DBA         Yes   \n4586                                          Architect          No   \n3100                                          Architect          No   \n410   DBA (General - splits time evenly between writ...          No   \n6143                                                DBA         Yes   \n4324  DBA (Development Focus - tunes queries, indexe...          No   \n\n      YearsWithThisTypeOfJob  \\\n7329                       5   \n2675                       6   \n1966                       9   \n4972                      12   \n8359                      18   \n4586                      18   \n3100                       2   \n410                        5   \n6143                       8   \n4324                       4   \n\n                                       HowManyCompanies OtherPeopleOnYourTeam  \\\n7329                                          Not Asked                     4   \n2675                                          Not Asked                     1   \n1966                                                  3           More than 5   \n4972                                          Not Asked                  None   \n8359                                          Not Asked                  None   \n4586                                          Not Asked                     3   \n3100                                          Not Asked                  None   \n410   1 (this is the only company where I've had thi...                  None   \n6143                                          Not Asked                     1   \n4324                                          Not Asked           More than 5   \n\n      DatabaseServers                   Education  Gender  \n7329               43         Bachelors (4 years)   Other  \n2675               20         Bachelors (4 years)    Male  \n1966              500         Bachelors (4 years)    Male  \n4972               40  None (no degree completed)    Male  \n8359               18         Bachelors (4 years)   Other  \n4586                7        Associates (2 years)    Male  \n3100                2         Bachelors (4 years)  Female  \n410                 2                   Not Asked    Male  \n6143              110         Bachelors (4 years)   Other  \n4324               30         Bachelors (4 years)    Male  ",
      "text/html": "<div>\n<style scoped>\n    .dataframe tbody tr th:only-of-type {\n        vertical-align: middle;\n    }\n\n    .dataframe tbody tr th {\n        vertical-align: top;\n    }\n\n    .dataframe thead th {\n        text-align: right;\n    }\n</style>\n<table border=\"1\" class=\"dataframe\">\n  <thead>\n    <tr style=\"text-align: right;\">\n      <th></th>\n      <th>Survey Year</th>\n      <th>Timestamp</th>\n      <th>SalaryUSD</th>\n      <th>Country</th>\n      <th>PostalCode</th>\n      <th>PrimaryDatabase</th>\n      <th>YearsWithThisDatabase</th>\n      <th>JobTitle</th>\n      <th>ManageStaff</th>\n      <th>YearsWithThisTypeOfJob</th>\n      <th>HowManyCompanies</th>\n      <th>OtherPeopleOnYourTeam</th>\n      <th>DatabaseServers</th>\n      <th>Education</th>\n      <th>Gender</th>\n    </tr>\n  </thead>\n  <tbody>\n    <tr>\n      <th>7329</th>\n      <td>2017</td>\n      <td>2017-01-06 07:01:00.127</td>\n      <td>103000.0</td>\n      <td>United States</td>\n      <td>Not Asked</td>\n      <td>Microsoft SQL Server</td>\n      <td>6</td>\n      <td>Developer: Business Intelligence (SSRS, PowerB...</td>\n      <td>No</td>\n      <td>5</td>\n      <td>Not Asked</td>\n      <td>4</td>\n      <td>43</td>\n      <td>Bachelors (4 years)</td>\n      <td>Other</td>\n    </tr>\n    <tr>\n      <th>2675</th>\n      <td>2018</td>\n      <td>2018-01-03 14:46:27.029</td>\n      <td>75000.0</td>\n      <td>United States</td>\n      <td>98102</td>\n      <td>Oracle</td>\n      <td>6</td>\n      <td>Analyst</td>\n      <td>No</td>\n      <td>6</td>\n      <td>Not Asked</td>\n      <td>1</td>\n      <td>20</td>\n      <td>Bachelors (4 years)</td>\n      <td>Male</td>\n    </tr>\n    <tr>\n      <th>1966</th>\n      <td>2019</td>\n      <td>2018-12-22 09:40:54.605</td>\n      <td>97335.0</td>\n      <td>United States</td>\n      <td>14610</td>\n      <td>Microsoft SQL Server</td>\n      <td>9</td>\n      <td>DBA (Production Focus - build &amp; troubleshoot s...</td>\n      <td>No</td>\n      <td>9</td>\n      <td>3</td>\n      <td>More than 5</td>\n      <td>500</td>\n      <td>Bachelors (4 years)</td>\n      <td>Male</td>\n    </tr>\n    <tr>\n      <th>4972</th>\n      <td>2018</td>\n      <td>2017-12-13 11:46:47.306</td>\n      <td>81723.0</td>\n      <td>United States</td>\n      <td>66101</td>\n      <td>Microsoft SQL Server</td>\n      <td>20</td>\n      <td>Architect</td>\n      <td>No</td>\n      <td>12</td>\n      <td>Not Asked</td>\n      <td>None</td>\n      <td>40</td>\n      <td>None (no degree completed)</td>\n      <td>Male</td>\n    </tr>\n    <tr>\n      <th>8359</th>\n      <td>2017</td>\n      <td>2017-01-05 11:13:25.675</td>\n      <td>133900.0</td>\n      <td>United States</td>\n      <td>Not Asked</td>\n      <td>Microsoft SQL Server</td>\n      <td>21</td>\n      <td>DBA</td>\n      <td>Yes</td>\n      <td>18</td>\n      <td>Not Asked</td>\n      <td>None</td>\n      <td>18</td>\n      <td>Bachelors (4 years)</td>\n      <td>Other</td>\n    </tr>\n    <tr>\n      <th>4586</th>\n      <td>2018</td>\n      <td>2017-12-18 12:41:59.311</td>\n      <td>147000.0</td>\n      <td>United States</td>\n      <td>76039</td>\n      <td>Microsoft SQL Server</td>\n      <td>18</td>\n      <td>Architect</td>\n      <td>No</td>\n      <td>18</td>\n      <td>Not Asked</td>\n      <td>3</td>\n      <td>7</td>\n      <td>Associates (2 years)</td>\n      <td>Male</td>\n    </tr>\n    <tr>\n      <th>3100</th>\n      <td>2018</td>\n      <td>2017-12-26 12:21:08.458</td>\n      <td>77855.0</td>\n      <td>United States</td>\n      <td>87102</td>\n      <td>Microsoft SQL Server</td>\n      <td>5</td>\n      <td>Architect</td>\n      <td>No</td>\n      <td>2</td>\n      <td>Not Asked</td>\n      <td>None</td>\n      <td>2</td>\n      <td>Bachelors (4 years)</td>\n      <td>Female</td>\n    </tr>\n    <tr>\n      <th>410</th>\n      <td>2020</td>\n      <td>2019-12-17 10:35:06.621</td>\n      <td>70000.0</td>\n      <td>United States</td>\n      <td>38118</td>\n      <td>Other</td>\n      <td>1</td>\n      <td>DBA (General - splits time evenly between writ...</td>\n      <td>No</td>\n      <td>5</td>\n      <td>1 (this is the only company where I've had thi...</td>\n      <td>None</td>\n      <td>2</td>\n      <td>Not Asked</td>\n      <td>Male</td>\n    </tr>\n    <tr>\n      <th>6143</th>\n      <td>2017</td>\n      <td>2017-01-09 21:12:24.696</td>\n      <td>119000.0</td>\n      <td>United States</td>\n      <td>Not Asked</td>\n      <td>Microsoft SQL Server</td>\n      <td>8</td>\n      <td>DBA</td>\n      <td>Yes</td>\n      <td>8</td>\n      <td>Not Asked</td>\n      <td>1</td>\n      <td>110</td>\n      <td>Bachelors (4 years)</td>\n      <td>Other</td>\n    </tr>\n    <tr>\n      <th>4324</th>\n      <td>2018</td>\n      <td>2017-12-19 09:28:58.345</td>\n      <td>143000.0</td>\n      <td>United States</td>\n      <td>78735</td>\n      <td>Microsoft SQL Server</td>\n      <td>15</td>\n      <td>DBA (Development Focus - tunes queries, indexe...</td>\n      <td>No</td>\n      <td>4</td>\n      <td>Not Asked</td>\n      <td>More than 5</td>\n      <td>30</td>\n      <td>Bachelors (4 years)</td>\n      <td>Male</td>\n    </tr>\n  </tbody>\n</table>\n</div>"
     },
     "execution_count": 463,
     "metadata": {},
     "output_type": "execute_result"
    }
   ],
   "source": [
    "#replacing other type of gender by \"Other\"\n",
    "data_processed['Gender']=data_processed['Gender'].apply(lambda x: 'Male' if x == 'Male' else 'Female'if x== 'Female' else 'Other')\n",
    "data_processed.sample(10)\n"
   ],
   "metadata": {
    "collapsed": false,
    "pycharm": {
     "name": "#%%\n"
    }
   }
  },
  {
   "cell_type": "code",
   "execution_count": 464,
   "outputs": [
    {
     "data": {
      "text/plain": "      Survey Year               Timestamp  SalaryUSD        Country  \\\n6255         2017 2017-01-09 13:38:31.844    93000.0  United States   \n3235         2018 2017-12-22 11:38:37.175    75000.0  United States   \n2108         2019 2018-12-21 16:19:30.654   140000.0  United States   \n7850         2017 2017-01-05 13:05:52.765   140000.0  United States   \n3140         2018 2017-12-26 11:17:04.645   110000.0  United States   \n\n     PostalCode       PrimaryDatabase  YearsWithThisDatabase  \\\n6255  Not Asked  Microsoft SQL Server                      2   \n3235      75254  Microsoft SQL Server                     15   \n2108        750  Microsoft SQL Server                     13   \n7850  Not Asked  Microsoft SQL Server                     20   \n3140        850  Microsoft SQL Server                      5   \n\n                                               JobTitle ManageStaff  \\\n6255                                            Analyst          No   \n3235  DBA (General - splits time evenly between writ...          No   \n2108                                          Architect          No   \n7850                                                DBA          No   \n3140  DBA (General - splits time evenly between writ...          No   \n\n      YearsWithThisTypeOfJob HowManyCompanies OtherPeopleOnYourTeam  \\\n6255                       2        Not Asked                     3   \n3235                       2        Not Asked                     2   \n2108                      13                3                     1   \n7850                      25        Not Asked           More than 5   \n3140                       5        Not Asked                     5   \n\n      DatabaseServers                   Education Gender  \n6255                2         Bachelors (4 years)  Other  \n3235               20  None (no degree completed)   Male  \n2108               10  None (no degree completed)   Male  \n7850               80        Associates (2 years)  Other  \n3140               20         Bachelors (4 years)   Male  ",
      "text/html": "<div>\n<style scoped>\n    .dataframe tbody tr th:only-of-type {\n        vertical-align: middle;\n    }\n\n    .dataframe tbody tr th {\n        vertical-align: top;\n    }\n\n    .dataframe thead th {\n        text-align: right;\n    }\n</style>\n<table border=\"1\" class=\"dataframe\">\n  <thead>\n    <tr style=\"text-align: right;\">\n      <th></th>\n      <th>Survey Year</th>\n      <th>Timestamp</th>\n      <th>SalaryUSD</th>\n      <th>Country</th>\n      <th>PostalCode</th>\n      <th>PrimaryDatabase</th>\n      <th>YearsWithThisDatabase</th>\n      <th>JobTitle</th>\n      <th>ManageStaff</th>\n      <th>YearsWithThisTypeOfJob</th>\n      <th>HowManyCompanies</th>\n      <th>OtherPeopleOnYourTeam</th>\n      <th>DatabaseServers</th>\n      <th>Education</th>\n      <th>Gender</th>\n    </tr>\n  </thead>\n  <tbody>\n    <tr>\n      <th>6255</th>\n      <td>2017</td>\n      <td>2017-01-09 13:38:31.844</td>\n      <td>93000.0</td>\n      <td>United States</td>\n      <td>Not Asked</td>\n      <td>Microsoft SQL Server</td>\n      <td>2</td>\n      <td>Analyst</td>\n      <td>No</td>\n      <td>2</td>\n      <td>Not Asked</td>\n      <td>3</td>\n      <td>2</td>\n      <td>Bachelors (4 years)</td>\n      <td>Other</td>\n    </tr>\n    <tr>\n      <th>3235</th>\n      <td>2018</td>\n      <td>2017-12-22 11:38:37.175</td>\n      <td>75000.0</td>\n      <td>United States</td>\n      <td>75254</td>\n      <td>Microsoft SQL Server</td>\n      <td>15</td>\n      <td>DBA (General - splits time evenly between writ...</td>\n      <td>No</td>\n      <td>2</td>\n      <td>Not Asked</td>\n      <td>2</td>\n      <td>20</td>\n      <td>None (no degree completed)</td>\n      <td>Male</td>\n    </tr>\n    <tr>\n      <th>2108</th>\n      <td>2019</td>\n      <td>2018-12-21 16:19:30.654</td>\n      <td>140000.0</td>\n      <td>United States</td>\n      <td>750</td>\n      <td>Microsoft SQL Server</td>\n      <td>13</td>\n      <td>Architect</td>\n      <td>No</td>\n      <td>13</td>\n      <td>3</td>\n      <td>1</td>\n      <td>10</td>\n      <td>None (no degree completed)</td>\n      <td>Male</td>\n    </tr>\n    <tr>\n      <th>7850</th>\n      <td>2017</td>\n      <td>2017-01-05 13:05:52.765</td>\n      <td>140000.0</td>\n      <td>United States</td>\n      <td>Not Asked</td>\n      <td>Microsoft SQL Server</td>\n      <td>20</td>\n      <td>DBA</td>\n      <td>No</td>\n      <td>25</td>\n      <td>Not Asked</td>\n      <td>More than 5</td>\n      <td>80</td>\n      <td>Associates (2 years)</td>\n      <td>Other</td>\n    </tr>\n    <tr>\n      <th>3140</th>\n      <td>2018</td>\n      <td>2017-12-26 11:17:04.645</td>\n      <td>110000.0</td>\n      <td>United States</td>\n      <td>850</td>\n      <td>Microsoft SQL Server</td>\n      <td>5</td>\n      <td>DBA (General - splits time evenly between writ...</td>\n      <td>No</td>\n      <td>5</td>\n      <td>Not Asked</td>\n      <td>5</td>\n      <td>20</td>\n      <td>Bachelors (4 years)</td>\n      <td>Male</td>\n    </tr>\n  </tbody>\n</table>\n</div>"
     },
     "execution_count": 464,
     "metadata": {},
     "output_type": "execute_result"
    }
   ],
   "source": [
    "data_processed.sample(5)"
   ],
   "metadata": {
    "collapsed": false,
    "pycharm": {
     "name": "#%%\n"
    }
   }
  },
  {
   "cell_type": "code",
   "execution_count": 465,
   "outputs": [
    {
     "name": "stderr",
     "output_type": "stream",
     "text": [
      "/home/apprenant/anaconda3/envs/pythonProject/lib/python3.8/site-packages/pandas/core/indexing.py:1637: SettingWithCopyWarning: \n",
      "A value is trying to be set on a copy of a slice from a DataFrame\n",
      "\n",
      "See the caveats in the documentation: https://pandas.pydata.org/pandas-docs/stable/user_guide/indexing.html#returning-a-view-versus-a-copy\n",
      "  self._setitem_single_block(indexer, value, name)\n"
     ]
    }
   ],
   "source": [
    "# replace the job title by the same name for those that have long title for a better dataviz\n",
    "data_processed['JobTitle'].loc[data_processed['JobTitle'].astype(str).str.contains(\"DBA\")] = 'DBA'\n",
    "data_processed['JobTitle'].loc[data_processed['JobTitle'].astype(str).str.contains('Developer: Business Intelligence') ]= 'Developer BI'\n",
    "data_processed['JobTitle'].loc[data_processed['JobTitle'].astype(str).str.contains('Developer: App code') ]= 'Developer: App code'"
   ],
   "metadata": {
    "collapsed": false,
    "pycharm": {
     "name": "#%%\n"
    }
   }
  },
  {
   "cell_type": "code",
   "execution_count": 466,
   "outputs": [
    {
     "data": {
      "text/plain": "DBA                            2599\nDeveloper: T-SQL                493\nArchitect                       430\nManager                         346\nDeveloper BI                    332\nDeveloper: App code             323\nAnalyst                         310\nEngineer                        254\nOther                            84\nData Scientist                   35\nSystems Administrator             2\nSr Consultant                     1\nTechnician                        1\nConsultant                        1\nDatabase Specialist               1\nAnalytics consultant              1\nPrincipal database engineer       1\nName: JobTitle, dtype: int64"
     },
     "execution_count": 466,
     "metadata": {},
     "output_type": "execute_result"
    }
   ],
   "source": [
    "data_processed.JobTitle.value_counts()"
   ],
   "metadata": {
    "collapsed": false,
    "pycharm": {
     "name": "#%% to know how many rows by job:\n"
    }
   }
  },
  {
   "cell_type": "markdown",
   "source": [
    "there's less than 2 rows for these jobs:\n",
    "\n",
    "Systems Administrator\n",
    "Sr Consultant\n",
    "Technician\n",
    "Consultant\n",
    "Database Specialist\n",
    "Analytics consultant\n",
    "Principal database engineer\n",
    "\n",
    "so rows are deleted :"
   ],
   "metadata": {
    "collapsed": false
   }
  },
  {
   "cell_type": "code",
   "execution_count": 467,
   "outputs": [],
   "source": [
    "data_processed.drop(data_processed[data_processed['JobTitle'] == 'Systems Administrator'].index,inplace = True)\n",
    "data_processed.drop(data_processed[data_processed['JobTitle'] == 'Sr Consultant '].index,inplace = True)\n",
    "data_processed.drop(data_processed[data_processed['JobTitle'] == 'Technician '].index,inplace = True)\n",
    "data_processed.drop(data_processed[data_processed['JobTitle'] == 'Consultant'].index,inplace = True)\n",
    "data_processed.drop(data_processed[data_processed['JobTitle'] == 'Database Specialist'].index,inplace = True)\n",
    "data_processed.drop(data_processed[data_processed['JobTitle'] == 'Analytics consultant'].index,inplace = True)\n",
    "data_processed.drop(data_processed[data_processed['JobTitle'] == 'Principal database engineer'].index,inplace = True)"
   ],
   "metadata": {
    "collapsed": false,
    "pycharm": {
     "name": "#%%\n"
    }
   }
  },
  {
   "cell_type": "code",
   "execution_count": 468,
   "outputs": [
    {
     "data": {
      "text/plain": "DBA                    2599\nDeveloper: T-SQL        493\nArchitect               430\nManager                 346\nDeveloper BI            332\nDeveloper: App code     323\nAnalyst                 310\nEngineer                254\nOther                    84\nData Scientist           35\nName: JobTitle, dtype: int64"
     },
     "execution_count": 468,
     "metadata": {},
     "output_type": "execute_result"
    }
   ],
   "source": [
    "data_processed.JobTitle.value_counts()"
   ],
   "metadata": {
    "collapsed": false,
    "pycharm": {
     "name": "#%%\n"
    }
   }
  },
  {
   "cell_type": "code",
   "execution_count": 469,
   "outputs": [
    {
     "data": {
      "text/plain": "Survey Year                        int64\nTimestamp                 datetime64[ns]\nSalaryUSD                        float64\nCountry                           object\nPostalCode                        object\nPrimaryDatabase                   object\nYearsWithThisDatabase              int64\nJobTitle                          object\nManageStaff                       object\nYearsWithThisTypeOfJob             int64\nHowManyCompanies                  object\nOtherPeopleOnYourTeam             object\nDatabaseServers                    int64\nEducation                         object\nGender                            object\ndtype: object"
     },
     "execution_count": 469,
     "metadata": {},
     "output_type": "execute_result"
    }
   ],
   "source": [
    "# type of the data in the columns\n",
    "data_processed.dtypes\n",
    "# for the moment, timestamp is not used, so we won't convert it to date"
   ],
   "metadata": {
    "collapsed": false,
    "pycharm": {
     "name": "#%%\n"
    }
   }
  },
  {
   "cell_type": "code",
   "execution_count": 470,
   "outputs": [
    {
     "data": {
      "text/plain": "<Figure size 720x576 with 1 Axes>",
      "image/png": "[encoded data removed]"
     },
     "metadata": {},
     "output_type": "display_data"
    }
   ],
   "source": [
    "import seaborn as sns\n",
    "import matplotlib.pyplot as plt\n",
    "\n",
    "plt.figure(figsize = (10,8))\n",
    "sns.set_theme(style=\"whitegrid\")\n",
    "\n",
    "ax = sns.boxplot(x=data_processed[\"SalaryUSD\"])"
   ],
   "metadata": {
    "collapsed": false,
    "pycharm": {
     "name": "#%% to view the outliers\n"
    }
   }
  },
  {
   "cell_type": "markdown",
   "source": [
    "outliers will be dropped (11 rows)"
   ],
   "metadata": {
    "collapsed": false
   }
  },
  {
   "cell_type": "code",
   "execution_count": 471,
   "outputs": [
    {
     "data": {
      "text/plain": "11"
     },
     "execution_count": 471,
     "metadata": {},
     "output_type": "execute_result"
    }
   ],
   "source": [
    "data_processed[data_processed['SalaryUSD'] > 500000].value_counts().sum()"
   ],
   "metadata": {
    "collapsed": false,
    "pycharm": {
     "name": "#%%\n"
    }
   }
  },
  {
   "cell_type": "code",
   "execution_count": 472,
   "outputs": [
    {
     "data": {
      "text/plain": "<Figure size 720x576 with 1 Axes>",
      "image/png": "[encoded data removed]"
     },
     "metadata": {},
     "output_type": "display_data"
    }
   ],
   "source": [
    "data_processed.drop(data_processed[data_processed['SalaryUSD'] > 500000].index,inplace = True)\n",
    "data_processed[data_processed['SalaryUSD'] > 500000].value_counts().sum()\n",
    "plt.figure(figsize = (10,8))\n",
    "sns.set_theme(style=\"whitegrid\")\n",
    "\n",
    "ax = sns.boxplot(x=data_processed[\"SalaryUSD\"])"
   ],
   "metadata": {
    "collapsed": false,
    "pycharm": {
     "name": "#%% thew boxplot without outliers\n"
    }
   }
  },
  {
   "cell_type": "code",
   "execution_count": 473,
   "outputs": [
    {
     "data": {
      "text/plain": "Not Asked                                                             3660\n1 (this is the only company where I've had this kind of position)      513\n2 (I worked at another similar position elsewhere before this one)     471\n3                                                                      272\n4                                                                      110\n6 or more                                                               93\n5                                                                       76\nName: HowManyCompanies, dtype: int64"
     },
     "execution_count": 473,
     "metadata": {},
     "output_type": "execute_result"
    }
   ],
   "source": [
    "# view  the 'HowManyCompanies' column to answer the question:\n",
    "#  - Is it better work for one company or several?\n",
    "\n",
    "data_processed.HowManyCompanies.value_counts()"
   ],
   "metadata": {
    "collapsed": false,
    "pycharm": {
     "name": "#%%\n"
    }
   }
  },
  {
   "cell_type": "markdown",
   "source": [
    "below to change in numeric values :\n",
    "Not Asked                                                             3668\n",
    "1 (this is the only company where I've had this kind of position)      515\n",
    "2 (I worked at another similar position elsewhere before this one)     471\n",
    "3                                                                      272\n",
    "4                                                                      110\n",
    "6 or more                                                               94\n",
    "5"
   ],
   "metadata": {
    "collapsed": false,
    "pycharm": {
     "name": "#%% md\n"
    }
   }
  },
  {
   "cell_type": "code",
   "execution_count": 474,
   "outputs": [
    {
     "name": "stderr",
     "output_type": "stream",
     "text": [
      "/home/apprenant/anaconda3/envs/pythonProject/lib/python3.8/site-packages/pandas/core/indexing.py:1637: SettingWithCopyWarning: \n",
      "A value is trying to be set on a copy of a slice from a DataFrame\n",
      "\n",
      "See the caveats in the documentation: https://pandas.pydata.org/pandas-docs/stable/user_guide/indexing.html#returning-a-view-versus-a-copy\n",
      "  self._setitem_single_block(indexer, value, name)\n"
     ]
    },
    {
     "data": {
      "text/plain": "Not Asked    3660\n1             513\n2             471\n3             272\n4             110\n6 or more      93\n5              76\nName: HowManyCompanies, dtype: int64"
     },
     "execution_count": 474,
     "metadata": {},
     "output_type": "execute_result"
    }
   ],
   "source": [
    "# as weave different values, with text. a standardization pre-processing must be don\n",
    "data_processed['HowManyCompanies'].loc[data_processed['HowManyCompanies'].astype(str).str.contains('1 ') ]= 1\n",
    "data_processed['HowManyCompanies'].loc[data_processed['HowManyCompanies'].astype(str).str.contains('2 ') ]= 2\n",
    "\n",
    "\n",
    "data_processed.HowManyCompanies.value_counts()"
   ],
   "metadata": {
    "collapsed": false,
    "pycharm": {
     "name": "#%%\n"
    }
   }
  },
  {
   "cell_type": "code",
   "execution_count": 475,
   "outputs": [
    {
     "data": {
      "text/plain": "Survey Year  Timestamp                SalaryUSD  Country        PostalCode  PrimaryDatabase       YearsWithThisDatabase  JobTitle             ManageStaff  YearsWithThisTypeOfJob  HowManyCompanies  OtherPeopleOnYourTeam  DatabaseServers  Education             Gender\n2017         2017-01-05 05:10:20.451  200000.0   United States  Not Asked   Microsoft SQL Server  10                     DBA                  No           5                       Not Asked         2                      350              Masters               Other     1\n2018         2017-12-27 21:02:55.621  85544.0    United States  17406       Microsoft SQL Server  18                     Developer: App code  No           30                      Not Asked         None                   30               Bachelors (4 years)   Male      1\n             2017-12-28 14:17:24.231  99000.0    United States  63109       Microsoft SQL Server  5                      Developer: T-SQL     No           5                       Not Asked         More than 5            10               Masters               Male      1\n             2017-12-28 14:14:51.830  100000.0   United States  55418       Microsoft SQL Server  20                     DBA                  No           3                       Not Asked         None                   100              Associates (2 years)  Female    1\n             2017-12-28 14:06:56.097  63000.0    United States  46825       Microsoft SQL Server  10                     DBA                  Yes          10                      Not Asked         None                   7                Bachelors (4 years)   Female    1\n                                                                                                                                                                                                                                                                            ..\n2017         2017-01-11 06:57:55.852  95000.0    United States  Not Asked   Microsoft SQL Server  20                     DBA                  Yes          15                      Not Asked         1                      80               Associates (2 years)  Other     1\n             2017-01-11 06:36:36.073  160000.0   United States  Not Asked   Microsoft SQL Server  16                     DBA                  Yes          4                       Not Asked         None                   1200             Associates (2 years)  Other     1\n             2017-01-11 04:24:15.941  95000.0    United States  Not Asked   Oracle                20                     DBA                  No           15                      Not Asked         1                      35               Bachelors (4 years)   Other     1\n             2017-01-11 01:07:03.646  138000.0   United States  Not Asked   Microsoft SQL Server  15                     Manager              Yes          25                      Not Asked         None                   15               Bachelors (4 years)   Other     1\n2020         2020-01-04 18:50:34.328  115000.0   United States  03          Microsoft SQL Server  15                     DBA                  No           5                       1                 2                      500              Not Asked             Male      1\nLength: 5195, dtype: int64"
     },
     "execution_count": 475,
     "metadata": {},
     "output_type": "execute_result"
    }
   ],
   "source": [
    "data_processed.value_counts()"
   ],
   "metadata": {
    "collapsed": false,
    "pycharm": {
     "name": "#%%\n"
    }
   }
  },
  {
   "cell_type": "code",
   "execution_count": 476,
   "outputs": [
    {
     "data": {
      "text/plain": "1     583\n3     555\n2     534\n5     511\n4     435\n10    385\n6     292\n7     243\n15    227\n8     222\n20    207\n12    144\n9     101\n18     92\n25     79\n17     72\n11     66\n16     65\n13     62\n14     55\n19     43\n0      37\n22     36\n21     27\n30     25\n23     17\n24     13\n28     11\n26      8\n29      8\n32      7\n35      6\n27      6\n38      4\n40      3\n31      3\n37      2\n34      2\n33      2\n36      2\n45      1\n44      1\n39      1\nName: YearsWithThisTypeOfJob, dtype: int64"
     },
     "execution_count": 476,
     "metadata": {},
     "output_type": "execute_result"
    }
   ],
   "source": [
    "data_processed.YearsWithThisTypeOfJob.value_counts()"
   ],
   "metadata": {
    "collapsed": false,
    "pycharm": {
     "name": "#%%\n"
    }
   }
  },
  {
   "cell_type": "code",
   "execution_count": 477,
   "outputs": [],
   "source": [
    "# saving the data:\n",
    "data_processed.to_csv(r'data_processed.csv')\n"
   ],
   "metadata": {
    "collapsed": false,
    "pycharm": {
     "name": "#%%\n"
    }
   }
  }
 ],
 "metadata": {
  "kernelspec": {
   "display_name": "Python 3",
   "language": "python",
   "name": "python3"
  },
  "language_info": {
   "codemirror_mode": {
    "name": "ipython",
    "version": 2
   },
   "file_extension": ".py",
   "mimetype": "text/x-python",
   "name": "python",
   "nbconvert_exporter": "python",
   "pygments_lexer": "ipython2",
   "version": "2.7.6"
  }
 },
 "nbformat": 4,
 "nbformat_minor": 0
}