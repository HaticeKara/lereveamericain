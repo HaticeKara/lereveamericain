{
 "cells": [
  {
   "cell_type": "markdown",
   "source": [
    "#### library imports"
   ],
   "metadata": {
    "collapsed": false,
    "pycharm": {
     "name": "#%% md\n"
    }
   }
  },
  {
   "cell_type": "code",
   "execution_count": 25,
   "outputs": [],
   "source": [
    "import os\n",
    "import pandas as pd"
   ],
   "metadata": {
    "collapsed": false,
    "pycharm": {
     "name": "#%%\n"
    }
   }
  },
  {
   "cell_type": "markdown",
   "source": [
    "#### Reading file from https://www.brentozar.com/archive/2020/01/the-2020-data-professional-salary-survey-results-are-in/\n",
    "which is saved in 01_raw repertory"
   ],
   "metadata": {
    "collapsed": false
   }
  },
  {
   "cell_type": "code",
   "execution_count": 26,
   "outputs": [
    {
     "data": {
      "text/plain": "   Survey Year               Timestamp  SalaryUSD        Country PostalCode  \\\n0         2020 2020-01-04 18:50:34.328   115000.0  United States         03   \n1         2020 2020-01-04 10:43:01.821   100000.0  United States        NaN   \n2         2020 2020-01-04 09:51:45.885   100000.0          Spain      28046   \n3         2020 2020-01-04 01:08:53.605    70000.0  United States      94133   \n4         2020 2020-01-03 15:28:54.163   110000.0  United States      95354   \n\n        PrimaryDatabase  YearsWithThisDatabase  \\\n0  Microsoft SQL Server                     15   \n1                 Other                      6   \n2  Microsoft SQL Server                      2   \n3  Microsoft SQL Server                      3   \n4                Oracle                     30   \n\n                                      OtherDatabases    EmploymentStatus  \\\n0  Microsoft SQL Server, MongoDB, Azure SQL DB (a...  Full time employee   \n1                                      MySQL/MariaDB  Full time employee   \n2                                      MySQL/MariaDB  Full time employee   \n3                                   Microsoft Access  Full time employee   \n4  Microsoft SQL Server, Oracle, MySQL/MariaDB, P...  Full time employee   \n\n                                            JobTitle  ...  \\\n0  DBA (Production Focus - build & troubleshoot s...  ...   \n1                  Developer: App code (C#, JS, etc)  ...   \n2                                              Other  ...   \n3                                            Analyst  ...   \n4  DBA (General - splits time evenly between writ...  ...   \n\n  NewestVersionInProduction  OldestVersionInProduction  \\\n0           SQL Server 2019            SQL Server 2016   \n1                  informix                   informix   \n2           SQL Server 2017            SQL Server 2017   \n3           SQL Server 2016            SQL Server 2012   \n4           SQL Server 2016          SQL Server 2008R2   \n\n  PopulationOfLargestCityWithin20Miles  EmploymentSector LookingForAnotherJob  \\\n0                 20K-99K (large town)  Private business            Not Asked   \n1                     1M+ (metropolis)  Private business            Not Asked   \n2                     1M+ (metropolis)  Private business            Not Asked   \n3                     1M+ (metropolis)  Private business            Not Asked   \n4                     100K-299K (city)        Non-profit            Not Asked   \n\n                      CareerPlansThisYear Gender OtherJobDuties  \\\n0  Stay with the same employer, same role   Male      Not Asked   \n1                       Prefer not to say   Male      Not Asked   \n2  Stay with the same employer, same role   Male      Not Asked   \n3         Change both employers and roles   Male      Not Asked   \n4  Stay with the same employer, same role   Male      Not Asked   \n\n  KindsOfTasksPerformed Counter  \n0             Not Asked       1  \n1             Not Asked       1  \n2             Not Asked       1  \n3             Not Asked       1  \n4             Not Asked       1  \n\n[5 rows x 31 columns]",
      "text/html": "<div>\n<style scoped>\n    .dataframe tbody tr th:only-of-type {\n        vertical-align: middle;\n    }\n\n    .dataframe tbody tr th {\n        vertical-align: top;\n    }\n\n    .dataframe thead th {\n        text-align: right;\n    }\n</style>\n<table border=\"1\" class=\"dataframe\">\n  <thead>\n    <tr style=\"text-align: right;\">\n      <th></th>\n      <th>Survey Year</th>\n      <th>Timestamp</th>\n      <th>SalaryUSD</th>\n      <th>Country</th>\n      <th>PostalCode</th>\n      <th>PrimaryDatabase</th>\n      <th>YearsWithThisDatabase</th>\n      <th>OtherDatabases</th>\n      <th>EmploymentStatus</th>\n      <th>JobTitle</th>\n      <th>...</th>\n      <th>NewestVersionInProduction</th>\n      <th>OldestVersionInProduction</th>\n      <th>PopulationOfLargestCityWithin20Miles</th>\n      <th>EmploymentSector</th>\n      <th>LookingForAnotherJob</th>\n      <th>CareerPlansThisYear</th>\n      <th>Gender</th>\n      <th>OtherJobDuties</th>\n      <th>KindsOfTasksPerformed</th>\n      <th>Counter</th>\n    </tr>\n  </thead>\n  <tbody>\n    <tr>\n      <th>0</th>\n      <td>2020</td>\n      <td>2020-01-04 18:50:34.328</td>\n      <td>115000.0</td>\n      <td>United States</td>\n      <td>03</td>\n      <td>Microsoft SQL Server</td>\n      <td>15</td>\n      <td>Microsoft SQL Server, MongoDB, Azure SQL DB (a...</td>\n      <td>Full time employee</td>\n      <td>DBA (Production Focus - build &amp; troubleshoot s...</td>\n      <td>...</td>\n      <td>SQL Server 2019</td>\n      <td>SQL Server 2016</td>\n      <td>20K-99K (large town)</td>\n      <td>Private business</td>\n      <td>Not Asked</td>\n      <td>Stay with the same employer, same role</td>\n      <td>Male</td>\n      <td>Not Asked</td>\n      <td>Not Asked</td>\n      <td>1</td>\n    </tr>\n    <tr>\n      <th>1</th>\n      <td>2020</td>\n      <td>2020-01-04 10:43:01.821</td>\n      <td>100000.0</td>\n      <td>United States</td>\n      <td>NaN</td>\n      <td>Other</td>\n      <td>6</td>\n      <td>MySQL/MariaDB</td>\n      <td>Full time employee</td>\n      <td>Developer: App code (C#, JS, etc)</td>\n      <td>...</td>\n      <td>informix</td>\n      <td>informix</td>\n      <td>1M+ (metropolis)</td>\n      <td>Private business</td>\n      <td>Not Asked</td>\n      <td>Prefer not to say</td>\n      <td>Male</td>\n      <td>Not Asked</td>\n      <td>Not Asked</td>\n      <td>1</td>\n    </tr>\n    <tr>\n      <th>2</th>\n      <td>2020</td>\n      <td>2020-01-04 09:51:45.885</td>\n      <td>100000.0</td>\n      <td>Spain</td>\n      <td>28046</td>\n      <td>Microsoft SQL Server</td>\n      <td>2</td>\n      <td>MySQL/MariaDB</td>\n      <td>Full time employee</td>\n      <td>Other</td>\n      <td>...</td>\n      <td>SQL Server 2017</td>\n      <td>SQL Server 2017</td>\n      <td>1M+ (metropolis)</td>\n      <td>Private business</td>\n      <td>Not Asked</td>\n      <td>Stay with the same employer, same role</td>\n      <td>Male</td>\n      <td>Not Asked</td>\n      <td>Not Asked</td>\n      <td>1</td>\n    </tr>\n    <tr>\n      <th>3</th>\n      <td>2020</td>\n      <td>2020-01-04 01:08:53.605</td>\n      <td>70000.0</td>\n      <td>United States</td>\n      <td>94133</td>\n      <td>Microsoft SQL Server</td>\n      <td>3</td>\n      <td>Microsoft Access</td>\n      <td>Full time employee</td>\n      <td>Analyst</td>\n      <td>...</td>\n      <td>SQL Server 2016</td>\n      <td>SQL Server 2012</td>\n      <td>1M+ (metropolis)</td>\n      <td>Private business</td>\n      <td>Not Asked</td>\n      <td>Change both employers and roles</td>\n      <td>Male</td>\n      <td>Not Asked</td>\n      <td>Not Asked</td>\n      <td>1</td>\n    </tr>\n    <tr>\n      <th>4</th>\n      <td>2020</td>\n      <td>2020-01-03 15:28:54.163</td>\n      <td>110000.0</td>\n      <td>United States</td>\n      <td>95354</td>\n      <td>Oracle</td>\n      <td>30</td>\n      <td>Microsoft SQL Server, Oracle, MySQL/MariaDB, P...</td>\n      <td>Full time employee</td>\n      <td>DBA (General - splits time evenly between writ...</td>\n      <td>...</td>\n      <td>SQL Server 2016</td>\n      <td>SQL Server 2008R2</td>\n      <td>100K-299K (city)</td>\n      <td>Non-profit</td>\n      <td>Not Asked</td>\n      <td>Stay with the same employer, same role</td>\n      <td>Male</td>\n      <td>Not Asked</td>\n      <td>Not Asked</td>\n      <td>1</td>\n    </tr>\n  </tbody>\n</table>\n<p>5 rows × 31 columns</p>\n</div>"
     },
     "execution_count": 26,
     "metadata": {},
     "output_type": "execute_result"
    }
   ],
   "source": [
    "# https://www.brentozar.com/archive/2020/01/the-2020-data-professional-salary-survey-results-are-in/\n",
    "# which is saved in 01_raw repertory\n",
    "data_salary=pd.read_excel('/home/apprenant/PycharmProjects/pythonProject/lereveamericain/Data/01_raw/2020_Data_Professional_Salary_Survey_Responses.xlsx',skiprows=3)\n",
    "data_salary.head(5)"
   ],
   "metadata": {
    "collapsed": false,
    "pycharm": {
     "name": "#%%\n"
    }
   }
  },
  {
   "cell_type": "markdown",
   "source": [
    "#### next datasets will be loaded in this directory:"
   ],
   "metadata": {
    "collapsed": false
   }
  },
  {
   "cell_type": "code",
   "execution_count": 27,
   "outputs": [],
   "source": [
    "os.chdir (\"/home/apprenant/PycharmProjects/pythonProject/lereveamericain/Data/02_intermediate\")"
   ],
   "metadata": {
    "collapsed": false,
    "pycharm": {
     "name": "#%%\n"
    }
   }
  },
  {
   "cell_type": "code",
   "execution_count": 28,
   "outputs": [
    {
     "data": {
      "text/plain": "Index(['Survey Year', 'Timestamp', 'SalaryUSD', 'Country', 'PostalCode',\n       'PrimaryDatabase', 'YearsWithThisDatabase', 'OtherDatabases',\n       'EmploymentStatus', 'JobTitle', 'ManageStaff', 'YearsWithThisTypeOfJob',\n       'HowManyCompanies', 'OtherPeopleOnYourTeam', 'CompanyEmployeesOverall',\n       'DatabaseServers', 'Education', 'EducationIsComputerRelated',\n       'Certifications', 'HoursWorkedPerWeek', 'TelecommuteDaysPerWeek',\n       'NewestVersionInProduction', 'OldestVersionInProduction',\n       'PopulationOfLargestCityWithin20Miles', 'EmploymentSector',\n       'LookingForAnotherJob', 'CareerPlansThisYear', 'Gender',\n       'OtherJobDuties', 'KindsOfTasksPerformed', 'Counter'],\n      dtype='object')"
     },
     "execution_count": 28,
     "metadata": {},
     "output_type": "execute_result"
    }
   ],
   "source": [
    "data_salary.columns\n"
   ],
   "metadata": {
    "collapsed": false,
    "pycharm": {
     "name": "#%%\n"
    }
   }
  },
  {
   "cell_type": "markdown",
   "source": [
    "#### dataset without some columns\n",
    "#### ( I kept the \"Survey Year\" to eventually see the evolution of salary)\n",
    "#### (we should delete timestamp column, but i decide to keep it to because of duplicates)"
   ],
   "metadata": {
    "collapsed": false
   }
  },
  {
   "cell_type": "code",
   "execution_count": 29,
   "outputs": [
    {
     "data": {
      "text/plain": "   Survey Year               Timestamp  SalaryUSD        Country PostalCode  \\\n0         2020 2020-01-04 18:50:34.328   115000.0  United States         03   \n1         2020 2020-01-04 10:43:01.821   100000.0  United States        NaN   \n2         2020 2020-01-04 09:51:45.885   100000.0          Spain      28046   \n3         2020 2020-01-04 01:08:53.605    70000.0  United States      94133   \n4         2020 2020-01-03 15:28:54.163   110000.0  United States      95354   \n\n        PrimaryDatabase  YearsWithThisDatabase  \\\n0  Microsoft SQL Server                     15   \n1                 Other                      6   \n2  Microsoft SQL Server                      2   \n3  Microsoft SQL Server                      3   \n4                Oracle                     30   \n\n                                            JobTitle ManageStaff  \\\n0  DBA (Production Focus - build & troubleshoot s...          No   \n1                  Developer: App code (C#, JS, etc)          No   \n2                                              Other         Yes   \n3                                            Analyst          No   \n4  DBA (General - splits time evenly between writ...          No   \n\n   YearsWithThisTypeOfJob                                   HowManyCompanies  \\\n0                       5  1 (this is the only company where I've had thi...   \n1                       6  1 (this is the only company where I've had thi...   \n2                       3  1 (this is the only company where I've had thi...   \n3                       3  1 (this is the only company where I've had thi...   \n4                      25                                                  3   \n\n  OtherPeopleOnYourTeam  DatabaseServers  Education Gender  \n0                     2              500  Not Asked   Male  \n1           More than 5                1  Not Asked   Male  \n2                     1                1  Not Asked   Male  \n3                     2                3  Not Asked   Male  \n4                  None               45  Not Asked   Male  ",
      "text/html": "<div>\n<style scoped>\n    .dataframe tbody tr th:only-of-type {\n        vertical-align: middle;\n    }\n\n    .dataframe tbody tr th {\n        vertical-align: top;\n    }\n\n    .dataframe thead th {\n        text-align: right;\n    }\n</style>\n<table border=\"1\" class=\"dataframe\">\n  <thead>\n    <tr style=\"text-align: right;\">\n      <th></th>\n      <th>Survey Year</th>\n      <th>Timestamp</th>\n      <th>SalaryUSD</th>\n      <th>Country</th>\n      <th>PostalCode</th>\n      <th>PrimaryDatabase</th>\n      <th>YearsWithThisDatabase</th>\n      <th>JobTitle</th>\n      <th>ManageStaff</th>\n      <th>YearsWithThisTypeOfJob</th>\n      <th>HowManyCompanies</th>\n      <th>OtherPeopleOnYourTeam</th>\n      <th>DatabaseServers</th>\n      <th>Education</th>\n      <th>Gender</th>\n    </tr>\n  </thead>\n  <tbody>\n    <tr>\n      <th>0</th>\n      <td>2020</td>\n      <td>2020-01-04 18:50:34.328</td>\n      <td>115000.0</td>\n      <td>United States</td>\n      <td>03</td>\n      <td>Microsoft SQL Server</td>\n      <td>15</td>\n      <td>DBA (Production Focus - build &amp; troubleshoot s...</td>\n      <td>No</td>\n      <td>5</td>\n      <td>1 (this is the only company where I've had thi...</td>\n      <td>2</td>\n      <td>500</td>\n      <td>Not Asked</td>\n      <td>Male</td>\n    </tr>\n    <tr>\n      <th>1</th>\n      <td>2020</td>\n      <td>2020-01-04 10:43:01.821</td>\n      <td>100000.0</td>\n      <td>United States</td>\n      <td>NaN</td>\n      <td>Other</td>\n      <td>6</td>\n      <td>Developer: App code (C#, JS, etc)</td>\n      <td>No</td>\n      <td>6</td>\n      <td>1 (this is the only company where I've had thi...</td>\n      <td>More than 5</td>\n      <td>1</td>\n      <td>Not Asked</td>\n      <td>Male</td>\n    </tr>\n    <tr>\n      <th>2</th>\n      <td>2020</td>\n      <td>2020-01-04 09:51:45.885</td>\n      <td>100000.0</td>\n      <td>Spain</td>\n      <td>28046</td>\n      <td>Microsoft SQL Server</td>\n      <td>2</td>\n      <td>Other</td>\n      <td>Yes</td>\n      <td>3</td>\n      <td>1 (this is the only company where I've had thi...</td>\n      <td>1</td>\n      <td>1</td>\n      <td>Not Asked</td>\n      <td>Male</td>\n    </tr>\n    <tr>\n      <th>3</th>\n      <td>2020</td>\n      <td>2020-01-04 01:08:53.605</td>\n      <td>70000.0</td>\n      <td>United States</td>\n      <td>94133</td>\n      <td>Microsoft SQL Server</td>\n      <td>3</td>\n      <td>Analyst</td>\n      <td>No</td>\n      <td>3</td>\n      <td>1 (this is the only company where I've had thi...</td>\n      <td>2</td>\n      <td>3</td>\n      <td>Not Asked</td>\n      <td>Male</td>\n    </tr>\n    <tr>\n      <th>4</th>\n      <td>2020</td>\n      <td>2020-01-03 15:28:54.163</td>\n      <td>110000.0</td>\n      <td>United States</td>\n      <td>95354</td>\n      <td>Oracle</td>\n      <td>30</td>\n      <td>DBA (General - splits time evenly between writ...</td>\n      <td>No</td>\n      <td>25</td>\n      <td>3</td>\n      <td>None</td>\n      <td>45</td>\n      <td>Not Asked</td>\n      <td>Male</td>\n    </tr>\n  </tbody>\n</table>\n</div>"
     },
     "execution_count": 29,
     "metadata": {},
     "output_type": "execute_result"
    }
   ],
   "source": [
    "data_intermediate = data_salary.drop([\n",
    "'CompanyEmployeesOverall',\n",
    "'LookingForAnotherJob',\n",
    "'OtherJobDuties',\n",
    "'KindsOfTasksPerformed',\n",
    "'OtherDatabases',\n",
    "'Counter',\n",
    "'TelecommuteDaysPerWeek',\n",
    "'NewestVersionInProduction',\n",
    "'OldestVersionInProduction',\n",
    "'CareerPlansThisYear',\n",
    "'EmploymentSector',\n",
    "'PopulationOfLargestCityWithin20Miles',\n",
    "'Certifications',\n",
    "'HoursWorkedPerWeek',\n",
    "'EducationIsComputerRelated',\n",
    "'EmploymentStatus',\n",
    "],axis = 1)\n",
    "\n",
    "data_intermediate.head()\n"
   ],
   "metadata": {
    "collapsed": false,
    "pycharm": {
     "name": "#%%\n"
    }
   }
  },
  {
   "cell_type": "markdown",
   "source": [
    "#### only united states rows due to request KPI that concern USA:"
   ],
   "metadata": {
    "collapsed": false
   }
  },
  {
   "cell_type": "code",
   "execution_count": 30,
   "outputs": [],
   "source": [
    "data_intermediate_usa = data_intermediate.loc[data_intermediate['Country'] == 'United States']\n",
    "data_intermediate_usa.to_csv(r'data_intermediate_usa.csv')"
   ],
   "metadata": {
    "collapsed": false,
    "pycharm": {
     "name": "#%%\n"
    }
   }
  },
  {
   "cell_type": "markdown",
   "source": [
    "#### to get name of columns"
   ],
   "metadata": {
    "collapsed": false
   }
  },
  {
   "cell_type": "code",
   "execution_count": 31,
   "outputs": [
    {
     "data": {
      "text/plain": "Index(['Survey Year', 'Timestamp', 'SalaryUSD', 'Country', 'PostalCode',\n       'PrimaryDatabase', 'YearsWithThisDatabase', 'JobTitle', 'ManageStaff',\n       'YearsWithThisTypeOfJob', 'HowManyCompanies', 'OtherPeopleOnYourTeam',\n       'DatabaseServers', 'Education', 'Gender'],\n      dtype='object')"
     },
     "execution_count": 31,
     "metadata": {},
     "output_type": "execute_result"
    }
   ],
   "source": [
    "data_intermediate.columns"
   ],
   "metadata": {
    "collapsed": false,
    "pycharm": {
     "name": "#%%\n"
    }
   }
  },
  {
   "cell_type": "markdown",
   "source": [
    "#### to see number of duplicates on all the columns except 'timestamp' :"
   ],
   "metadata": {
    "collapsed": false
   }
  },
  {
   "cell_type": "code",
   "execution_count": 32,
   "outputs": [
    {
     "data": {
      "text/plain": "(35, 15)"
     },
     "execution_count": 32,
     "metadata": {},
     "output_type": "execute_result"
    }
   ],
   "source": [
    "df_duplicates = data_intermediate[data_intermediate.duplicated(subset=['Survey Year','SalaryUSD', 'Country', 'PostalCode',\n",
    "       'PrimaryDatabase', 'YearsWithThisDatabase', 'JobTitle', 'ManageStaff',\n",
    "       'YearsWithThisTypeOfJob', 'HowManyCompanies', 'OtherPeopleOnYourTeam',\n",
    "       'DatabaseServers', 'Education', 'Gender'])]\n",
    "df_duplicates.shape\n",
    "#df[df.duplicated(subset = ['colonne1', 'colonne2'])]"
   ],
   "metadata": {
    "collapsed": false,
    "pycharm": {
     "name": "#%%\n"
    }
   }
  },
  {
   "cell_type": "markdown",
   "source": [
    "#### droping duplicates rows :"
   ],
   "metadata": {
    "collapsed": false,
    "pycharm": {
     "name": "#%% md\n"
    }
   }
  },
  {
   "cell_type": "code",
   "execution_count": 33,
   "outputs": [
    {
     "name": "stdout",
     "output_type": "stream",
     "text": [
      "(8592, 15)\n"
     ]
    }
   ],
   "source": [
    "data_intermediate=data_intermediate.drop(df_duplicates.index, axis=0)\n",
    "print(data_intermediate.shape)"
   ],
   "metadata": {
    "collapsed": false,
    "pycharm": {
     "name": "#%%\n"
    }
   }
  },
  {
   "cell_type": "markdown",
   "source": [
    "#### to view which columns are empty :"
   ],
   "metadata": {
    "collapsed": false
   }
  },
  {
   "cell_type": "code",
   "execution_count": 34,
   "outputs": [
    {
     "data": {
      "text/plain": "Survey Year                 0\nTimestamp                   0\nSalaryUSD                   0\nCountry                     0\nPostalCode                466\nPrimaryDatabase             0\nYearsWithThisDatabase       0\nJobTitle                    0\nManageStaff                 0\nYearsWithThisTypeOfJob      0\nHowManyCompanies            0\nOtherPeopleOnYourTeam       0\nDatabaseServers             0\nEducation                   0\nGender                      0\ndtype: int64"
     },
     "execution_count": 34,
     "metadata": {},
     "output_type": "execute_result"
    }
   ],
   "source": [
    "data_intermediate_usa.isnull().sum()"
   ],
   "metadata": {
    "collapsed": false,
    "pycharm": {
     "name": "#%%\n"
    }
   }
  },
  {
   "cell_type": "markdown",
   "source": [
    "#### to see how many rows are in the data set"
   ],
   "metadata": {
    "collapsed": false
   }
  },
  {
   "cell_type": "code",
   "execution_count": 35,
   "outputs": [
    {
     "data": {
      "text/plain": "(5680, 15)"
     },
     "execution_count": 35,
     "metadata": {},
     "output_type": "execute_result"
    }
   ],
   "source": [
    "data_intermediate_usa.shape"
   ],
   "metadata": {
    "collapsed": false,
    "pycharm": {
     "name": "#%%\n"
    }
   }
  },
  {
   "cell_type": "markdown",
   "source": [
    "#### drop rows without postal code because rows without postal code represent only 8% of the data"
   ],
   "metadata": {
    "collapsed": false,
    "pycharm": {
     "name": "#%% md\n"
    }
   }
  },
  {
   "cell_type": "code",
   "execution_count": 36,
   "outputs": [
    {
     "data": {
      "text/plain": "Survey Year               0\nTimestamp                 0\nSalaryUSD                 0\nCountry                   0\nPostalCode                0\nPrimaryDatabase           0\nYearsWithThisDatabase     0\nJobTitle                  0\nManageStaff               0\nYearsWithThisTypeOfJob    0\nHowManyCompanies          0\nOtherPeopleOnYourTeam     0\nDatabaseServers           0\nEducation                 0\nGender                    0\ndtype: int64"
     },
     "execution_count": 36,
     "metadata": {},
     "output_type": "execute_result"
    }
   ],
   "source": [
    "data_intermediate_usa_nopc= data_intermediate_usa.dropna(subset=['PostalCode'])\n",
    "data_intermediate_usa_nopc.to_csv(r'data_intermediate_usa_nopc.csv')\n",
    "data_intermediate_usa_nopc.isnull().sum()"
   ],
   "metadata": {
    "collapsed": false,
    "pycharm": {
     "name": "#%%\n"
    }
   }
  },
  {
   "cell_type": "markdown",
   "source": [
    "#### copy dataframe"
   ],
   "metadata": {
    "collapsed": false
   }
  },
  {
   "cell_type": "code",
   "execution_count": 37,
   "outputs": [],
   "source": [
    "data_processed = data_intermediate_usa_nopc.copy()"
   ],
   "metadata": {
    "collapsed": false,
    "pycharm": {
     "name": "#%%\n"
    }
   }
  },
  {
   "cell_type": "markdown",
   "source": [
    "#### next datasets will be loaded in this directory:"
   ],
   "metadata": {
    "collapsed": false
   }
  },
  {
   "cell_type": "code",
   "execution_count": 38,
   "outputs": [],
   "source": [
    "os.chdir (\"/home/apprenant/PycharmProjects/pythonProject/lereveamericain/Data/03_processed\")"
   ],
   "metadata": {
    "collapsed": false,
    "pycharm": {
     "name": "#%%\n"
    }
   }
  },
  {
   "cell_type": "markdown",
   "source": [
    "#### replacing other type of gender by \"Other\""
   ],
   "metadata": {
    "collapsed": false
   }
  },
  {
   "cell_type": "code",
   "execution_count": 39,
   "outputs": [
    {
     "data": {
      "text/plain": "      Survey Year               Timestamp  SalaryUSD        Country  \\\n3705         2018 2017-12-20 11:30:06.040   109000.0  United States   \n7507         2017 2017-01-05 21:03:59.733   168000.0  United States   \n2473         2019 2018-12-11 10:24:55.396   750000.0  United States   \n5260         2018 2017-12-12 13:07:08.776   109000.0  United States   \n7268         2017 2017-01-06 09:25:56.891   103000.0  United States   \n5475         2018 2017-12-12 11:33:22.035   130000.0  United States   \n4851         2018 2017-12-15 02:33:23.745   650000.0  United States   \n2913         2018 2017-12-29 12:16:44.658   150000.0  United States   \n1493         2020 2019-12-11 11:33:31.964   120000.0  United States   \n788          2020 2019-12-12 10:25:02.503   115000.0  United States   \n\n     PostalCode          PrimaryDatabase  YearsWithThisDatabase  \\\n3705      98121     Microsoft SQL Server                     14   \n7507  Not Asked     Microsoft SQL Server                     17   \n2473      33705     Microsoft SQL Server                      3   \n5260      75050     Microsoft SQL Server                     16   \n7268  Not Asked     Microsoft SQL Server                     17   \n5475      92123     Microsoft SQL Server                     16   \n4851     650000  Amazon RDS (any flavor)                     10   \n2913      80304                   Oracle                     20   \n1493      53004     Microsoft SQL Server                     20   \n788       75007     Microsoft SQL Server                     19   \n\n                                               JobTitle ManageStaff  \\\n3705                                   Developer: T-SQL          No   \n7507                                            Manager         Yes   \n2473  DBA (General - splits time evenly between writ...          No   \n5260  DBA (Production Focus - build & troubleshoot s...          No   \n7268                                   Developer: T-SQL          No   \n5475  DBA (General - splits time evenly between writ...          No   \n4851                                           Engineer          No   \n2913  DBA (General - splits time evenly between writ...          No   \n1493                                          Architect          No   \n788   DBA (General - splits time evenly between writ...          No   \n\n      YearsWithThisTypeOfJob  \\\n3705                      10   \n7507                       1   \n2473                       3   \n5260                      16   \n7268                       1   \n5475                      11   \n4851                       3   \n2913                      20   \n1493                       7   \n788                       19   \n\n                                       HowManyCompanies OtherPeopleOnYourTeam  \\\n3705                                          Not Asked                     1   \n7507                                          Not Asked                     5   \n2473  1 (this is the only company where I've had thi...                  None   \n5260                                          Not Asked                  None   \n7268                                          Not Asked                  None   \n5475                                          Not Asked           More than 5   \n4851                                          Not Asked                  None   \n2913                                          Not Asked                  None   \n1493  2 (I worked at another similar position elsewh...                  None   \n788   1 (this is the only company where I've had thi...                  None   \n\n      DatabaseServers                   Education Gender  \n3705                6        Associates (2 years)   Male  \n7507              100  None (no degree completed)  Other  \n2473               90        Associates (2 years)   Male  \n5260             1426  None (no degree completed)   Male  \n7268               30         Bachelors (4 years)  Other  \n5475               40         Bachelors (4 years)   Male  \n4851           500000         Bachelors (4 years)   Male  \n2913               30         Bachelors (4 years)   Male  \n1493               10                   Not Asked   Male  \n788                30                   Not Asked   Male  ",
      "text/html": "<div>\n<style scoped>\n    .dataframe tbody tr th:only-of-type {\n        vertical-align: middle;\n    }\n\n    .dataframe tbody tr th {\n        vertical-align: top;\n    }\n\n    .dataframe thead th {\n        text-align: right;\n    }\n</style>\n<table border=\"1\" class=\"dataframe\">\n  <thead>\n    <tr style=\"text-align: right;\">\n      <th></th>\n      <th>Survey Year</th>\n      <th>Timestamp</th>\n      <th>SalaryUSD</th>\n      <th>Country</th>\n      <th>PostalCode</th>\n      <th>PrimaryDatabase</th>\n      <th>YearsWithThisDatabase</th>\n      <th>JobTitle</th>\n      <th>ManageStaff</th>\n      <th>YearsWithThisTypeOfJob</th>\n      <th>HowManyCompanies</th>\n      <th>OtherPeopleOnYourTeam</th>\n      <th>DatabaseServers</th>\n      <th>Education</th>\n      <th>Gender</th>\n    </tr>\n  </thead>\n  <tbody>\n    <tr>\n      <th>3705</th>\n      <td>2018</td>\n      <td>2017-12-20 11:30:06.040</td>\n      <td>109000.0</td>\n      <td>United States</td>\n      <td>98121</td>\n      <td>Microsoft SQL Server</td>\n      <td>14</td>\n      <td>Developer: T-SQL</td>\n      <td>No</td>\n      <td>10</td>\n      <td>Not Asked</td>\n      <td>1</td>\n      <td>6</td>\n      <td>Associates (2 years)</td>\n      <td>Male</td>\n    </tr>\n    <tr>\n      <th>7507</th>\n      <td>2017</td>\n      <td>2017-01-05 21:03:59.733</td>\n      <td>168000.0</td>\n      <td>United States</td>\n      <td>Not Asked</td>\n      <td>Microsoft SQL Server</td>\n      <td>17</td>\n      <td>Manager</td>\n      <td>Yes</td>\n      <td>1</td>\n      <td>Not Asked</td>\n      <td>5</td>\n      <td>100</td>\n      <td>None (no degree completed)</td>\n      <td>Other</td>\n    </tr>\n    <tr>\n      <th>2473</th>\n      <td>2019</td>\n      <td>2018-12-11 10:24:55.396</td>\n      <td>750000.0</td>\n      <td>United States</td>\n      <td>33705</td>\n      <td>Microsoft SQL Server</td>\n      <td>3</td>\n      <td>DBA (General - splits time evenly between writ...</td>\n      <td>No</td>\n      <td>3</td>\n      <td>1 (this is the only company where I've had thi...</td>\n      <td>None</td>\n      <td>90</td>\n      <td>Associates (2 years)</td>\n      <td>Male</td>\n    </tr>\n    <tr>\n      <th>5260</th>\n      <td>2018</td>\n      <td>2017-12-12 13:07:08.776</td>\n      <td>109000.0</td>\n      <td>United States</td>\n      <td>75050</td>\n      <td>Microsoft SQL Server</td>\n      <td>16</td>\n      <td>DBA (Production Focus - build &amp; troubleshoot s...</td>\n      <td>No</td>\n      <td>16</td>\n      <td>Not Asked</td>\n      <td>None</td>\n      <td>1426</td>\n      <td>None (no degree completed)</td>\n      <td>Male</td>\n    </tr>\n    <tr>\n      <th>7268</th>\n      <td>2017</td>\n      <td>2017-01-06 09:25:56.891</td>\n      <td>103000.0</td>\n      <td>United States</td>\n      <td>Not Asked</td>\n      <td>Microsoft SQL Server</td>\n      <td>17</td>\n      <td>Developer: T-SQL</td>\n      <td>No</td>\n      <td>1</td>\n      <td>Not Asked</td>\n      <td>None</td>\n      <td>30</td>\n      <td>Bachelors (4 years)</td>\n      <td>Other</td>\n    </tr>\n    <tr>\n      <th>5475</th>\n      <td>2018</td>\n      <td>2017-12-12 11:33:22.035</td>\n      <td>130000.0</td>\n      <td>United States</td>\n      <td>92123</td>\n      <td>Microsoft SQL Server</td>\n      <td>16</td>\n      <td>DBA (General - splits time evenly between writ...</td>\n      <td>No</td>\n      <td>11</td>\n      <td>Not Asked</td>\n      <td>More than 5</td>\n      <td>40</td>\n      <td>Bachelors (4 years)</td>\n      <td>Male</td>\n    </tr>\n    <tr>\n      <th>4851</th>\n      <td>2018</td>\n      <td>2017-12-15 02:33:23.745</td>\n      <td>650000.0</td>\n      <td>United States</td>\n      <td>650000</td>\n      <td>Amazon RDS (any flavor)</td>\n      <td>10</td>\n      <td>Engineer</td>\n      <td>No</td>\n      <td>3</td>\n      <td>Not Asked</td>\n      <td>None</td>\n      <td>500000</td>\n      <td>Bachelors (4 years)</td>\n      <td>Male</td>\n    </tr>\n    <tr>\n      <th>2913</th>\n      <td>2018</td>\n      <td>2017-12-29 12:16:44.658</td>\n      <td>150000.0</td>\n      <td>United States</td>\n      <td>80304</td>\n      <td>Oracle</td>\n      <td>20</td>\n      <td>DBA (General - splits time evenly between writ...</td>\n      <td>No</td>\n      <td>20</td>\n      <td>Not Asked</td>\n      <td>None</td>\n      <td>30</td>\n      <td>Bachelors (4 years)</td>\n      <td>Male</td>\n    </tr>\n    <tr>\n      <th>1493</th>\n      <td>2020</td>\n      <td>2019-12-11 11:33:31.964</td>\n      <td>120000.0</td>\n      <td>United States</td>\n      <td>53004</td>\n      <td>Microsoft SQL Server</td>\n      <td>20</td>\n      <td>Architect</td>\n      <td>No</td>\n      <td>7</td>\n      <td>2 (I worked at another similar position elsewh...</td>\n      <td>None</td>\n      <td>10</td>\n      <td>Not Asked</td>\n      <td>Male</td>\n    </tr>\n    <tr>\n      <th>788</th>\n      <td>2020</td>\n      <td>2019-12-12 10:25:02.503</td>\n      <td>115000.0</td>\n      <td>United States</td>\n      <td>75007</td>\n      <td>Microsoft SQL Server</td>\n      <td>19</td>\n      <td>DBA (General - splits time evenly between writ...</td>\n      <td>No</td>\n      <td>19</td>\n      <td>1 (this is the only company where I've had thi...</td>\n      <td>None</td>\n      <td>30</td>\n      <td>Not Asked</td>\n      <td>Male</td>\n    </tr>\n  </tbody>\n</table>\n</div>"
     },
     "execution_count": 39,
     "metadata": {},
     "output_type": "execute_result"
    }
   ],
   "source": [
    "data_processed['Gender']=data_processed['Gender'].apply(lambda x: 'Male' if x == 'Male' else 'Female'if x== 'Female' else 'Other')\n",
    "data_processed.sample(10)"
   ],
   "metadata": {
    "collapsed": false,
    "pycharm": {
     "name": "#%%\n"
    }
   }
  },
  {
   "cell_type": "code",
   "execution_count": 40,
   "outputs": [
    {
     "data": {
      "text/plain": "      Survey Year               Timestamp  SalaryUSD        Country  \\\n4228         2018 2017-12-19 16:13:19.097   112000.0  United States   \n8505         2017 2017-01-05 08:48:12.023    93000.0  United States   \n1971         2019 2018-12-22 09:02:35.688   108000.0  United States   \n5161         2018 2017-12-12 16:21:44.823   119000.0  United States   \n3928         2018 2017-12-20 09:20:03.709   175000.0  United States   \n\n     PostalCode       PrimaryDatabase  YearsWithThisDatabase  \\\n4228      551XX  Microsoft SQL Server                     13   \n8505  Not Asked  Microsoft SQL Server                      7   \n1971      27614  Microsoft SQL Server                      6   \n5161        926  Microsoft SQL Server                      2   \n3928      63038  Microsoft SQL Server                     20   \n\n                                               JobTitle ManageStaff  \\\n4228  DBA (General - splits time evenly between writ...          No   \n8505                  Developer: App code (C#, JS, etc)          No   \n1971                                            Manager         Yes   \n5161                                            Manager         Yes   \n3928                                          Architect         Yes   \n\n      YearsWithThisTypeOfJob  \\\n4228                       6   \n8505                       7   \n1971                       4   \n5161                       2   \n3928                      20   \n\n                                       HowManyCompanies OtherPeopleOnYourTeam  \\\n4228                                          Not Asked                     5   \n8505                                          Not Asked           More than 5   \n1971  2 (I worked at another similar position elsewh...                     3   \n5161                                          Not Asked                  None   \n3928                                          Not Asked                     1   \n\n      DatabaseServers            Education Gender  \n4228              100  Bachelors (4 years)   Male  \n8505                4  Bachelors (4 years)  Other  \n1971               15              Masters   Male  \n5161                8  Bachelors (4 years)   Male  \n3928               15  Bachelors (4 years)   Male  ",
      "text/html": "<div>\n<style scoped>\n    .dataframe tbody tr th:only-of-type {\n        vertical-align: middle;\n    }\n\n    .dataframe tbody tr th {\n        vertical-align: top;\n    }\n\n    .dataframe thead th {\n        text-align: right;\n    }\n</style>\n<table border=\"1\" class=\"dataframe\">\n  <thead>\n    <tr style=\"text-align: right;\">\n      <th></th>\n      <th>Survey Year</th>\n      <th>Timestamp</th>\n      <th>SalaryUSD</th>\n      <th>Country</th>\n      <th>PostalCode</th>\n      <th>PrimaryDatabase</th>\n      <th>YearsWithThisDatabase</th>\n      <th>JobTitle</th>\n      <th>ManageStaff</th>\n      <th>YearsWithThisTypeOfJob</th>\n      <th>HowManyCompanies</th>\n      <th>OtherPeopleOnYourTeam</th>\n      <th>DatabaseServers</th>\n      <th>Education</th>\n      <th>Gender</th>\n    </tr>\n  </thead>\n  <tbody>\n    <tr>\n      <th>4228</th>\n      <td>2018</td>\n      <td>2017-12-19 16:13:19.097</td>\n      <td>112000.0</td>\n      <td>United States</td>\n      <td>551XX</td>\n      <td>Microsoft SQL Server</td>\n      <td>13</td>\n      <td>DBA (General - splits time evenly between writ...</td>\n      <td>No</td>\n      <td>6</td>\n      <td>Not Asked</td>\n      <td>5</td>\n      <td>100</td>\n      <td>Bachelors (4 years)</td>\n      <td>Male</td>\n    </tr>\n    <tr>\n      <th>8505</th>\n      <td>2017</td>\n      <td>2017-01-05 08:48:12.023</td>\n      <td>93000.0</td>\n      <td>United States</td>\n      <td>Not Asked</td>\n      <td>Microsoft SQL Server</td>\n      <td>7</td>\n      <td>Developer: App code (C#, JS, etc)</td>\n      <td>No</td>\n      <td>7</td>\n      <td>Not Asked</td>\n      <td>More than 5</td>\n      <td>4</td>\n      <td>Bachelors (4 years)</td>\n      <td>Other</td>\n    </tr>\n    <tr>\n      <th>1971</th>\n      <td>2019</td>\n      <td>2018-12-22 09:02:35.688</td>\n      <td>108000.0</td>\n      <td>United States</td>\n      <td>27614</td>\n      <td>Microsoft SQL Server</td>\n      <td>6</td>\n      <td>Manager</td>\n      <td>Yes</td>\n      <td>4</td>\n      <td>2 (I worked at another similar position elsewh...</td>\n      <td>3</td>\n      <td>15</td>\n      <td>Masters</td>\n      <td>Male</td>\n    </tr>\n    <tr>\n      <th>5161</th>\n      <td>2018</td>\n      <td>2017-12-12 16:21:44.823</td>\n      <td>119000.0</td>\n      <td>United States</td>\n      <td>926</td>\n      <td>Microsoft SQL Server</td>\n      <td>2</td>\n      <td>Manager</td>\n      <td>Yes</td>\n      <td>2</td>\n      <td>Not Asked</td>\n      <td>None</td>\n      <td>8</td>\n      <td>Bachelors (4 years)</td>\n      <td>Male</td>\n    </tr>\n    <tr>\n      <th>3928</th>\n      <td>2018</td>\n      <td>2017-12-20 09:20:03.709</td>\n      <td>175000.0</td>\n      <td>United States</td>\n      <td>63038</td>\n      <td>Microsoft SQL Server</td>\n      <td>20</td>\n      <td>Architect</td>\n      <td>Yes</td>\n      <td>20</td>\n      <td>Not Asked</td>\n      <td>1</td>\n      <td>15</td>\n      <td>Bachelors (4 years)</td>\n      <td>Male</td>\n    </tr>\n  </tbody>\n</table>\n</div>"
     },
     "execution_count": 40,
     "metadata": {},
     "output_type": "execute_result"
    }
   ],
   "source": [
    "data_processed.sample(5)"
   ],
   "metadata": {
    "collapsed": false,
    "pycharm": {
     "name": "#%%\n"
    }
   }
  },
  {
   "cell_type": "markdown",
   "source": [
    "#### replace the job title by the same name for those that have long title for a better dataviz"
   ],
   "metadata": {
    "collapsed": false
   }
  },
  {
   "cell_type": "code",
   "execution_count": 41,
   "outputs": [
    {
     "name": "stderr",
     "output_type": "stream",
     "text": [
      "/home/apprenant/anaconda3/envs/pythonProject/lib/python3.8/site-packages/pandas/core/indexing.py:1637: SettingWithCopyWarning: \n",
      "A value is trying to be set on a copy of a slice from a DataFrame\n",
      "\n",
      "See the caveats in the documentation: https://pandas.pydata.org/pandas-docs/stable/user_guide/indexing.html#returning-a-view-versus-a-copy\n",
      "  self._setitem_single_block(indexer, value, name)\n"
     ]
    }
   ],
   "source": [
    "data_processed['JobTitle'].loc[data_processed['JobTitle'].astype(str).str.contains(\"DBA\")] = 'DBA'\n",
    "data_processed['JobTitle'].loc[data_processed['JobTitle'].astype(str).str.contains('Developer: Business Intelligence') ]= 'Developer BI'\n",
    "data_processed['JobTitle'].loc[data_processed['JobTitle'].astype(str).str.contains('Developer: App code') ]= 'Developer: App code'"
   ],
   "metadata": {
    "collapsed": false,
    "pycharm": {
     "name": "#%%\n"
    }
   }
  },
  {
   "cell_type": "markdown",
   "source": [
    "#### to know how many rows by job:"
   ],
   "metadata": {
    "collapsed": false
   }
  },
  {
   "cell_type": "code",
   "execution_count": 42,
   "outputs": [
    {
     "data": {
      "text/plain": "DBA                            2599\nDeveloper: T-SQL                493\nArchitect                       430\nManager                         346\nDeveloper BI                    332\nDeveloper: App code             323\nAnalyst                         310\nEngineer                        254\nOther                            84\nData Scientist                   35\nSystems Administrator             2\nAnalytics consultant              1\nSr Consultant                     1\nPrincipal database engineer       1\nConsultant                        1\nTechnician                        1\nDatabase Specialist               1\nName: JobTitle, dtype: int64"
     },
     "execution_count": 42,
     "metadata": {},
     "output_type": "execute_result"
    }
   ],
   "source": [
    "data_processed.JobTitle.value_counts()"
   ],
   "metadata": {
    "collapsed": false,
    "pycharm": {
     "name": "#%%\n"
    }
   }
  },
  {
   "cell_type": "markdown",
   "source": [
    "there's less than 2 rows for these jobs:\n",
    "\n",
    "- Systems Administrator\n",
    "- Sr Consultant\n",
    "- Technician\n",
    "- Consultant\n",
    "- Database Specialist\n",
    "- Analytics consultant\n",
    "- Principal database engineer\n",
    "\n",
    "so rows are deleted :"
   ],
   "metadata": {
    "collapsed": false
   }
  },
  {
   "cell_type": "code",
   "execution_count": 43,
   "outputs": [],
   "source": [
    "data_processed.drop(data_processed[data_processed['JobTitle'] == 'Systems Administrator'].index,inplace = True)\n",
    "data_processed.drop(data_processed[data_processed['JobTitle'] == 'Sr Consultant '].index,inplace = True)\n",
    "data_processed.drop(data_processed[data_processed['JobTitle'] == 'Technician '].index,inplace = True)\n",
    "data_processed.drop(data_processed[data_processed['JobTitle'] == 'Consultant'].index,inplace = True)\n",
    "data_processed.drop(data_processed[data_processed['JobTitle'] == 'Database Specialist'].index,inplace = True)\n",
    "data_processed.drop(data_processed[data_processed['JobTitle'] == 'Analytics consultant'].index,inplace = True)\n",
    "data_processed.drop(data_processed[data_processed['JobTitle'] == 'Principal database engineer'].index,inplace = True)"
   ],
   "metadata": {
    "collapsed": false,
    "pycharm": {
     "name": "#%%\n"
    }
   }
  },
  {
   "cell_type": "code",
   "execution_count": 44,
   "outputs": [
    {
     "data": {
      "text/plain": "DBA                    2599\nDeveloper: T-SQL        493\nArchitect               430\nManager                 346\nDeveloper BI            332\nDeveloper: App code     323\nAnalyst                 310\nEngineer                254\nOther                    84\nData Scientist           35\nName: JobTitle, dtype: int64"
     },
     "execution_count": 44,
     "metadata": {},
     "output_type": "execute_result"
    }
   ],
   "source": [
    "data_processed.JobTitle.value_counts()"
   ],
   "metadata": {
    "collapsed": false,
    "pycharm": {
     "name": "#%%\n"
    }
   }
  },
  {
   "cell_type": "markdown",
   "source": [
    "#### type of the data in the columns\n",
    "#### for the moment, timestamp is not used, so we won't convert it to date"
   ],
   "metadata": {
    "collapsed": false
   }
  },
  {
   "cell_type": "code",
   "execution_count": 45,
   "outputs": [
    {
     "data": {
      "text/plain": "Survey Year                        int64\nTimestamp                 datetime64[ns]\nSalaryUSD                        float64\nCountry                           object\nPostalCode                        object\nPrimaryDatabase                   object\nYearsWithThisDatabase              int64\nJobTitle                          object\nManageStaff                       object\nYearsWithThisTypeOfJob             int64\nHowManyCompanies                  object\nOtherPeopleOnYourTeam             object\nDatabaseServers                    int64\nEducation                         object\nGender                            object\ndtype: object"
     },
     "execution_count": 45,
     "metadata": {},
     "output_type": "execute_result"
    }
   ],
   "source": [
    "data_processed.dtypes"
   ],
   "metadata": {
    "collapsed": false,
    "pycharm": {
     "name": "#%%\n"
    }
   }
  },
  {
   "cell_type": "markdown",
   "source": [
    "#### to view the outliers"
   ],
   "metadata": {
    "collapsed": false
   }
  },
  {
   "cell_type": "code",
   "execution_count": 46,
   "outputs": [
    {
     "data": {
      "text/plain": "<Figure size 720x576 with 1 Axes>",
      "image/png": "[encoded data removed]"
     },
     "metadata": {
      "needs_background": "light"
     },
     "output_type": "display_data"
    }
   ],
   "source": [
    "import seaborn as sns\n",
    "import matplotlib.pyplot as plt\n",
    "\n",
    "plt.figure(figsize = (10,8))\n",
    "sns.set_theme(style=\"whitegrid\")\n",
    "\n",
    "ax = sns.boxplot(x=data_processed[\"SalaryUSD\"])"
   ],
   "metadata": {
    "collapsed": false,
    "pycharm": {
     "name": "#%%\n"
    }
   }
  },
  {
   "cell_type": "markdown",
   "source": [
    "outliers will be dropped (11 rows)"
   ],
   "metadata": {
    "collapsed": false
   }
  },
  {
   "cell_type": "code",
   "execution_count": 47,
   "outputs": [
    {
     "data": {
      "text/plain": "11"
     },
     "execution_count": 47,
     "metadata": {},
     "output_type": "execute_result"
    }
   ],
   "source": [
    "data_processed[data_processed['SalaryUSD'] > 500000].value_counts().sum()"
   ],
   "metadata": {
    "collapsed": false,
    "pycharm": {
     "name": "#%%\n"
    }
   }
  },
  {
   "cell_type": "markdown",
   "source": [
    "#### thew boxplot without outliers"
   ],
   "metadata": {
    "collapsed": false
   }
  },
  {
   "cell_type": "code",
   "execution_count": 48,
   "outputs": [
    {
     "data": {
      "text/plain": "<Figure size 720x576 with 1 Axes>",
      "image/png": "[encoded data removed]"
     },
     "metadata": {},
     "output_type": "display_data"
    }
   ],
   "source": [
    "data_processed.drop(data_processed[data_processed['SalaryUSD'] > 500000].index,inplace = True)\n",
    "data_processed[data_processed['SalaryUSD'] > 500000].value_counts().sum()\n",
    "plt.figure(figsize = (10,8))\n",
    "sns.set_theme(style=\"whitegrid\")\n",
    "\n",
    "ax = sns.boxplot(x=data_processed[\"SalaryUSD\"])"
   ],
   "metadata": {
    "collapsed": false,
    "pycharm": {
     "name": "#%%\n"
    }
   }
  },
  {
   "cell_type": "markdown",
   "source": [
    "#### view  the 'HowManyCompanies' column to answer the question:\n",
    "####  - Is it better work for one company or several?"
   ],
   "metadata": {
    "collapsed": false
   }
  },
  {
   "cell_type": "code",
   "execution_count": 49,
   "outputs": [
    {
     "data": {
      "text/plain": "Not Asked                                                             3660\n1 (this is the only company where I've had this kind of position)      513\n2 (I worked at another similar position elsewhere before this one)     471\n3                                                                      272\n4                                                                      110\n6 or more                                                               93\n5                                                                       76\nName: HowManyCompanies, dtype: int64"
     },
     "execution_count": 49,
     "metadata": {},
     "output_type": "execute_result"
    }
   ],
   "source": [
    "data_processed.HowManyCompanies.value_counts()"
   ],
   "metadata": {
    "collapsed": false,
    "pycharm": {
     "name": "#%%\n"
    }
   }
  },
  {
   "cell_type": "markdown",
   "source": [
    "#### as weave different values, with text. a standardization pre-processing must be don"
   ],
   "metadata": {
    "collapsed": false,
    "pycharm": {
     "name": "#%% md\n"
    }
   }
  },
  {
   "cell_type": "code",
   "execution_count": 50,
   "outputs": [
    {
     "name": "stderr",
     "output_type": "stream",
     "text": [
      "/home/apprenant/anaconda3/envs/pythonProject/lib/python3.8/site-packages/pandas/core/indexing.py:1637: SettingWithCopyWarning: \n",
      "A value is trying to be set on a copy of a slice from a DataFrame\n",
      "\n",
      "See the caveats in the documentation: https://pandas.pydata.org/pandas-docs/stable/user_guide/indexing.html#returning-a-view-versus-a-copy\n",
      "  self._setitem_single_block(indexer, value, name)\n"
     ]
    },
    {
     "data": {
      "text/plain": "Not Asked    3660\n1             513\n2             471\n3             272\n4             110\n6 or more      93\n5              76\nName: HowManyCompanies, dtype: int64"
     },
     "execution_count": 50,
     "metadata": {},
     "output_type": "execute_result"
    }
   ],
   "source": [
    "data_processed['HowManyCompanies'].loc[data_processed['HowManyCompanies'].astype(str).str.contains('1 ') ]= 1\n",
    "data_processed['HowManyCompanies'].loc[data_processed['HowManyCompanies'].astype(str).str.contains('2 ') ]= 2\n",
    "\n",
    "\n",
    "data_processed.HowManyCompanies.value_counts()"
   ],
   "metadata": {
    "collapsed": false,
    "pycharm": {
     "name": "#%%\n"
    }
   }
  },
  {
   "cell_type": "code",
   "execution_count": 51,
   "outputs": [
    {
     "data": {
      "text/plain": "Survey Year  Timestamp                SalaryUSD  Country        PostalCode  PrimaryDatabase       YearsWithThisDatabase  JobTitle             ManageStaff  YearsWithThisTypeOfJob  HowManyCompanies  OtherPeopleOnYourTeam  DatabaseServers  Education             Gender\n2017         2017-01-05 05:10:20.451  200000.0   United States  Not Asked   Microsoft SQL Server  10                     DBA                  No           5                       Not Asked         2                      350              Masters               Other     1\n2018         2017-12-27 21:02:55.621  85544.0    United States  17406       Microsoft SQL Server  18                     Developer: App code  No           30                      Not Asked         None                   30               Bachelors (4 years)   Male      1\n             2017-12-28 14:17:24.231  99000.0    United States  63109       Microsoft SQL Server  5                      Developer: T-SQL     No           5                       Not Asked         More than 5            10               Masters               Male      1\n             2017-12-28 14:14:51.830  100000.0   United States  55418       Microsoft SQL Server  20                     DBA                  No           3                       Not Asked         None                   100              Associates (2 years)  Female    1\n             2017-12-28 14:06:56.097  63000.0    United States  46825       Microsoft SQL Server  10                     DBA                  Yes          10                      Not Asked         None                   7                Bachelors (4 years)   Female    1\n                                                                                                                                                                                                                                                                            ..\n2017         2017-01-11 06:57:55.852  95000.0    United States  Not Asked   Microsoft SQL Server  20                     DBA                  Yes          15                      Not Asked         1                      80               Associates (2 years)  Other     1\n             2017-01-11 06:36:36.073  160000.0   United States  Not Asked   Microsoft SQL Server  16                     DBA                  Yes          4                       Not Asked         None                   1200             Associates (2 years)  Other     1\n             2017-01-11 04:24:15.941  95000.0    United States  Not Asked   Oracle                20                     DBA                  No           15                      Not Asked         1                      35               Bachelors (4 years)   Other     1\n             2017-01-11 01:07:03.646  138000.0   United States  Not Asked   Microsoft SQL Server  15                     Manager              Yes          25                      Not Asked         None                   15               Bachelors (4 years)   Other     1\n2020         2020-01-04 18:50:34.328  115000.0   United States  03          Microsoft SQL Server  15                     DBA                  No           5                       1                 2                      500              Not Asked             Male      1\nLength: 5195, dtype: int64"
     },
     "execution_count": 51,
     "metadata": {},
     "output_type": "execute_result"
    }
   ],
   "source": [
    "data_processed.value_counts()"
   ],
   "metadata": {
    "collapsed": false,
    "pycharm": {
     "name": "#%%\n"
    }
   }
  },
  {
   "cell_type": "code",
   "execution_count": 52,
   "outputs": [
    {
     "data": {
      "text/plain": "1     583\n3     555\n2     534\n5     511\n4     435\n10    385\n6     292\n7     243\n15    227\n8     222\n20    207\n12    144\n9     101\n18     92\n25     79\n17     72\n11     66\n16     65\n13     62\n14     55\n19     43\n0      37\n22     36\n21     27\n30     25\n23     17\n24     13\n28     11\n26      8\n29      8\n32      7\n35      6\n27      6\n38      4\n40      3\n31      3\n37      2\n34      2\n33      2\n36      2\n45      1\n44      1\n39      1\nName: YearsWithThisTypeOfJob, dtype: int64"
     },
     "execution_count": 52,
     "metadata": {},
     "output_type": "execute_result"
    }
   ],
   "source": [
    "data_processed.YearsWithThisTypeOfJob.value_counts()"
   ],
   "metadata": {
    "collapsed": false,
    "pycharm": {
     "name": "#%%\n"
    }
   }
  },
  {
   "cell_type": "markdown",
   "source": [
    "#### saving the data:"
   ],
   "metadata": {
    "collapsed": false
   }
  },
  {
   "cell_type": "code",
   "execution_count": 53,
   "outputs": [],
   "source": [
    "data_processed.to_csv(r'data_processed.csv')"
   ],
   "metadata": {
    "collapsed": false,
    "pycharm": {
     "name": "#%%\n"
    }
   }
  },
  {
   "cell_type": "markdown",
   "source": [],
   "metadata": {
    "collapsed": false
   }
  }
 ],
 "metadata": {
  "kernelspec": {
   "display_name": "Python 3",
   "language": "python",
   "name": "python3"
  },
  "language_info": {
   "codemirror_mode": {
    "name": "ipython",
    "version": 2
   },
   "file_extension": ".py",
   "mimetype": "text/x-python",
   "name": "python",
   "nbconvert_exporter": "python",
   "pygments_lexer": "ipython2",
   "version": "2.7.6"
  }
 },
 "nbformat": 4,
 "nbformat_minor": 0
}